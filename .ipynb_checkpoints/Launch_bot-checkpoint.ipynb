{
 "cells": [
  {
   "cell_type": "code",
   "execution_count": 1,
   "metadata": {},
   "outputs": [],
   "source": [
    "from src.bot import *\n",
    "from time import sleep\n",
    "from src.tasks import TaskType\n",
    "from src.vision import GamePhase\n",
    "from src.position import Directions\n",
    "\n",
    "# !pip install -r requirements.txt\n",
    "b = Bot('src/img/new_walkable_small.png')"
   ]
  },
  {
   "cell_type": "markdown",
   "metadata": {},
   "source": [
    "### Check Button \n"
   ]
  },
  {
   "cell_type": "code",
   "execution_count": 9,
   "metadata": {},
   "outputs": [
    {
     "name": "stdout",
     "output_type": "stream",
     "text": [
      "impostor : True\n",
      "GamePhase.Game\n",
      "use : False\n",
      "report : False\n",
      "kill : False\n",
      "vent : False\n",
      "sabotage : False\n",
      "admin : False\n",
      "security : False\n"
     ]
    }
   ],
   "source": [
    "print(\"impostor :\", b.vision_manager.is_impostor())\n",
    "print(b.vision_manager.get_game_phase())\n",
    "print(\"use :\", b.vision_manager.is_btn_use_active())\n",
    "print(\"report :\", b.vision_manager.is_btn_report_active())\n",
    "print(\"kill :\", b.vision_manager.is_btn_kill_active())\n",
    "print(\"vent :\", b.vision_manager.is_btn_vent_active())\n",
    "print(\"sabotage :\", b.vision_manager.is_btn_sabotage_active())\n",
    "print(\"admin :\", b.vision_manager.is_btn_admin_active())\n",
    "print(\"security :\", b.vision_manager.is_btn_security_active())"
   ]
  },
  {
   "cell_type": "markdown",
   "metadata": {},
   "source": [
    "### Get the nearest Task"
   ]
  },
  {
   "cell_type": "code",
   "execution_count": 4,
   "metadata": {},
   "outputs": [
    {
     "data": {
      "text/plain": [
       "[5: Clear Asteroids,\n",
       " 6: Divert Power,\n",
       " 19: Fix Wires (Storage),\n",
       " 36: Download/Upload (Communications)]"
      ]
     },
     "execution_count": 4,
     "metadata": {},
     "output_type": "execute_result"
    }
   ],
   "source": [
    "b.get_tasks()"
   ]
  },
  {
   "cell_type": "code",
   "execution_count": 13,
   "metadata": {},
   "outputs": [
    {
     "data": {
      "text/plain": [
       "(978, 696)"
      ]
     },
     "execution_count": 13,
     "metadata": {},
     "output_type": "execute_result"
    }
   ],
   "source": [
    "b.get_tasks()[2].location"
   ]
  },
  {
   "cell_type": "code",
   "execution_count": 11,
   "metadata": {},
   "outputs": [
    {
     "name": "stdout",
     "output_type": "stream",
     "text": [
      "0\n",
      "0\n",
      "36\n",
      "0\n"
     ]
    }
   ],
   "source": [
    "tasks = b.get_tasks()\n",
    "for task in tasks:\n",
    "    print(len(b.game_map.navigation_manager.calculate_path(b.position.find_me(), task.location)))"
   ]
  },
  {
   "cell_type": "code",
   "execution_count": 14,
   "metadata": {},
   "outputs": [
    {
     "name": "stdout",
     "output_type": "stream",
     "text": [
      "Didn't find a path between source and target ! 🐾\n",
      "Didn't find a path between source and target ! 🐾\n",
      "Didn't find a path between source and target ! 🐾\n"
     ]
    },
    {
     "data": {
      "text/plain": [
       "5: Clear Asteroids"
      ]
     },
     "execution_count": 14,
     "metadata": {},
     "output_type": "execute_result"
    }
   ],
   "source": [
    "b.get_nearest_task()\n",
    "b.next_task"
   ]
  },
  {
   "cell_type": "code",
   "execution_count": 15,
   "metadata": {},
   "outputs": [
    {
     "data": {
      "text/plain": [
       "(1017, 592)"
      ]
     },
     "execution_count": 15,
     "metadata": {},
     "output_type": "execute_result"
    }
   ],
   "source": [
    "b.position.find_me()"
   ]
  },
  {
   "cell_type": "markdown",
   "metadata": {},
   "source": [
    "## Navigate"
   ]
  },
  {
   "cell_type": "code",
   "execution_count": 19,
   "metadata": {},
   "outputs": [
    {
     "name": "stdout",
     "output_type": "stream",
     "text": [
      "Didn't find me ! 🙈\n"
     ]
    }
   ],
   "source": [
    "security_location = (520, 480)\n",
    "b.go_to_destination(security_location)"
   ]
  },
  {
   "cell_type": "code",
   "execution_count": 23,
   "metadata": {},
   "outputs": [
    {
     "name": "stdout",
     "output_type": "stream",
     "text": [
      "Didn't find me ! 🙈\n"
     ]
    }
   ],
   "source": [
    "accept_power_task = b.game_map.task_manager.tasks[12]\n",
    "accept_power_security_location = (550, 460)\n",
    "\n",
    "shield_location_apeupres = b.game_map.task_manager.tasks[28].location\n",
    "\n",
    "##### Demo #####\n",
    "b.go_to_destination(accept_power_security_location)\n",
    "# la ligne suivante c'est au cas où\n",
    "b.go_to_destination(accept_power_security_location)\n",
    "\n",
    "b.perform_task(accept_power_task)\n",
    "\n",
    "b.go_to_destination(shield_location_apeupres)\n",
    "# la ligne suivante c'est au cas où\n",
    "b.go_to_destination(shield_location_apeupres)"
   ]
  },
  {
   "cell_type": "markdown",
   "metadata": {},
   "source": [
    "### Check for tasks not reachable"
   ]
  },
  {
   "cell_type": "code",
   "execution_count": 12,
   "metadata": {
    "collapsed": true,
    "jupyter": {
     "outputs_hidden": true
    }
   },
   "outputs": [
    {
     "name": "stdout",
     "output_type": "stream",
     "text": [
      "Didn't find a path between source and target ! 🐾\n",
      "Didn't find a path between source and target ! 🐾\n",
      "Didn't find a path between source and target ! 🐾\n",
      "Didn't find a path between source and target ! 🐾\n",
      "Didn't find a path between source and target ! 🐾\n",
      "Didn't find me ! 🙈\n",
      "Didn't find a path between source and target ! 🐾\n",
      "Didn't find a path between source and target ! 🐾\n",
      "Didn't find a path between source and target ! 🐾\n",
      "Didn't find a path between source and target ! 🐾\n",
      "Didn't find a path between source and target ! 🐾\n",
      "Didn't find a path between source and target ! 🐾\n",
      "Didn't find a path between source and target ! 🐾\n",
      "Didn't find a path between source and target ! 🐾\n",
      "Didn't find a path between source and target ! 🐾\n",
      "Didn't find a path between source and target ! 🐾\n",
      "Didn't find a path between source and target ! 🐾\n",
      "Didn't find a path between source and target ! 🐾\n",
      "Didn't find a path between source and target ! 🐾\n",
      "Didn't find a path between source and target ! 🐾\n",
      "Didn't find a path between source and target ! 🐾\n",
      "Didn't find a path between source and target ! 🐾\n",
      "0: Align Engine (Upper Engine)\n",
      "1: Align Engine (Lower Engine)\n",
      "2: Calibrate Distributor\n",
      "3: Chart Course\n",
      "5: Clear Asteroids\n",
      "6: Divert Power\n",
      "11: Accept Power (O2)\n",
      "12: Accept Power (Security)\n",
      "13: Accept Power (Shields)\n",
      "14: Accept Power (Weapons)\n",
      "15: Empty Garbage/Chute (Cafeteria)\n",
      "17: Empty Garbage/Chute (Storage)\n",
      "21: Fix Wires (Navigation)\n",
      "22: Fix Wires (Admin)\n",
      "27: Inspect Sample\n",
      "29: Stabilize Steering\n",
      "31: Submit Scan\n",
      "34: Download/Upload (Cafeteria)\n",
      "35: Download/Upload (Admin)\n",
      "36: Download/Upload (Communications)\n",
      "37: Download/Upload (Electrical)\n"
     ]
    }
   ],
   "source": [
    "len_paths = [len(b.get_moving_actions_to_destination(task.location)) for task in b.game_map.task_manager.tasks]\n",
    "for i in range(len(len_paths)):\n",
    "    if len_paths[i] == 0:\n",
    "        print(f\"- **{b.game_map.task_manager.tasks[i]}**\")\n",
    "    else:\n",
    "        print(f\"- OK : {b.game_map.task_manager.tasks[i]}\")"
   ]
  },
  {
   "cell_type": "markdown",
   "metadata": {},
   "source": [
    "Not found tasks :\n",
    "- 0: Align Engine (Upper Engine)\n",
    "- 1: Align Engine (Lower Engine)\n",
    "- 2: Calibrate Distributor\n",
    "- 3: Chart Course\n",
    "- 5: Clear Asteroids\n",
    "- 6: Divert Power\n",
    "- 11: Accept Power (O2)\n",
    "- 12: Accept Power (Security)\n",
    "- 13: Accept Power (Shields)\n",
    "- 14: Accept Power (Weapons)\n",
    "- 15: Empty Garbage/Chute (Cafeteria)\n",
    "- 17: Empty Garbage/Chute (Storage)\n",
    "- 21: Fix Wires (Navigation)\n",
    "- 22: Fix Wires (Admin)\n",
    "- 27: Inspect Sample\n",
    "- 29: Stabilize Steering\n",
    "- 31: Submit Scan\n",
    "- 34: Download/Upload (Cafeteria)\n",
    "- 35: Download/Upload (Admin)\n",
    "- 36: Download/Upload (Communications)\n",
    "- 37: Download/Upload (Electrical)"
   ]
  },
  {
   "cell_type": "markdown",
   "metadata": {},
   "source": [
    "### NAVIGAAAAAATE 🐾🐾🐾"
   ]
  },
  {
   "cell_type": "code",
   "execution_count": 4,
   "metadata": {},
   "outputs": [
    {
     "data": {
      "text/plain": [
       "(346, 869)"
      ]
     },
     "execution_count": 4,
     "metadata": {},
     "output_type": "execute_result"
    }
   ],
   "source": [
    "b.position.find_me()\n",
    "b.position.get_tuple_coordinates()"
   ]
  },
  {
   "cell_type": "markdown",
   "metadata": {},
   "source": [
    "### Navigate and do these tasks"
   ]
  },
  {
   "cell_type": "code",
   "execution_count": null,
   "metadata": {},
   "outputs": [
    {
     "name": "stdout",
     "output_type": "stream",
     "text": [
      "Go to Clean O2 Filter\n",
      "Perform Clean O2 Filter\n",
      "Go to Accept Power (Communications)\n",
      "Didn't find me ! 🙈\n",
      "Didn't find me ! 🙈\n",
      "Perform Accept Power (Communications)\n",
      "Go to Accept Power (Lower Engine)\n",
      "Didn't find me ! 🙈\n",
      "Perform Accept Power (Lower Engine)\n",
      "Go to Accept Power (Upper Engine)\n",
      "Didn't find me ! 🙈\n",
      "Perform Accept Power (Upper Engine)\n",
      "Go to Accept Power (Navigation)\n",
      "Didn't find me ! 🙈\n",
      "Perform Accept Power (Navigation)\n",
      "Go to Empty Garbage/Chute (O2)\n",
      "Didn't find me ! 🙈\n",
      "Perform Empty Garbage/Chute (O2)\n",
      "Go to Fix Wires (Electrical)\n",
      "Perform Fix Wires (Electrical)\n",
      "Go to Fix Wires (Storage)\n",
      "Didn't find me ! 🙈\n",
      "Perform Fix Wires (Storage)\n",
      "Go to Fix Wires (Security)\n",
      "Didn't find me ! 🙈\n",
      "Didn't find a path between source and target ! 🐾\n",
      "Perform Fix Wires (Security)\n",
      "Go to Fix Wires (Cafeteria)\n",
      "Didn't find me ! 🙈\n",
      "Didn't find a path between source and target ! 🐾\n",
      "Perform Fix Wires (Cafeteria)\n",
      "Go to Fuel Engine (Storage)\n",
      "Perform Fuel Engine (Storage)\n",
      "Go to Fuel Engine (Lower Engine)\n",
      "Perform Fuel Engine (Lower Engine)\n",
      "Go to Fuel Engine (Upper Engine)\n",
      "Perform Fuel Engine (Upper Engine)\n",
      "Go to Prime Shields\n",
      "Perform Prime Shields\n",
      "Go to Start Reactor\n",
      "Perform Start Reactor\n"
     ]
    }
   ],
   "source": [
    "tasks_indexes = [4, 7, 8, 9, 10, 16, 18, 19, 20, 23, 24, 25, 26, 28, 30, 32, 33, 38, 39]\n",
    "tasks = [b.game_map.task_manager.tasks[i] for i in tasks_indexes]\n",
    "for task in tasks:\n",
    "    print(f\"Go to {task.name}\")\n",
    "    b.go_to_destination(task.location)\n",
    "    print(f\"Perform {task.name}\")\n",
    "    b.perform_task(task)"
   ]
  },
  {
   "cell_type": "code",
   "execution_count": 5,
   "metadata": {},
   "outputs": [],
   "source": [
    "# result_file_path=\"src/img/result_path.txt\"\n",
    "# grid_str = navManager.path_to_grid(path, must_print=False, result_file_path=None)"
   ]
  },
  {
   "cell_type": "markdown",
   "metadata": {},
   "source": [
    "## Talk during walking (experiments)"
   ]
  },
  {
   "cell_type": "code",
   "execution_count": 10,
   "metadata": {},
   "outputs": [],
   "source": [
    "import threading\n",
    "import multiprocessing\n",
    "import logging\n",
    "logging.basicConfig(level=logging.DEBUG,format='[%(levelname)s] (%(threadName)s) %(message)s')\n",
    "\n",
    "def navigate(destination):\n",
    "    print('Starting navigation')\n",
    "    b.go_to_destination(destination)\n",
    "    print('Exiting navigation')\n",
    "def talk():\n",
    "    print('Starting talking')\n",
    "    time.sleep(3)\n",
    "    print(\"I'm talking\")\n",
    "    time.sleep(1)\n",
    "    print(\"Finished to talk\")\n",
    "    print('Exiting talking')\n",
    "\n",
    "t = multiprocessing.Process(name='Nav', target=navigate, args=((520,480),))\n",
    "u = multiprocessing.Process(name='Talk', target=talk)\n",
    "t.start()\n",
    "t.join()\n",
    "u.start()\n",
    "u.join()"
   ]
  },
  {
   "cell_type": "code",
   "execution_count": 3,
   "metadata": {},
   "outputs": [
    {
     "name": "stdout",
     "output_type": "stream",
     "text": [
      "(1732, 503)\n",
      "[]\n"
     ]
    }
   ],
   "source": [
    "import multiprocessing\n",
    "\n",
    "print(b.position.find_me())\n",
    "manager = multiprocessing.Manager()\n",
    "return_dict = manager.dict()\n",
    "jobs = []\n",
    "for i in range(5):\n",
    "    p = multiprocessing.Process(target=b.position.find_me, args=(return_dict))\n",
    "    jobs.append(p)\n",
    "    p.start()\n",
    "\n",
    "for proc in jobs:\n",
    "    proc.join()\n",
    "print(return_dict.values())\n",
    "    \n",
    "# p=Pool(processes = num_processors)\n",
    "# output = p.map(b.position.find_me, [])\n",
    "# print(output)\n",
    "# p=Process(name=\"Find\", target=b.position.find_me)\n",
    "# output = p.start()\n",
    "# print(output)\n",
    "# output=p.join()\n",
    "# print(output)"
   ]
  },
  {
   "cell_type": "code",
   "execution_count": 3,
   "metadata": {},
   "outputs": [],
   "source": [
    "from multiprocessing import Process, Queue\n",
    "\n",
    "class Multiprocessor():\n",
    "\n",
    "    def __init__(self):\n",
    "        self.processes = []\n",
    "        self.queue = Queue()\n",
    "\n",
    "    @staticmethod\n",
    "    def _wrapper(func, queue, args, kwargs):\n",
    "        ret = func(*args, **kwargs)\n",
    "        queue.put(ret)\n",
    "\n",
    "    def run(self, func, *args, **kwargs):\n",
    "        args2 = [func, self.queue, args, kwargs]\n",
    "        p = Process(target=self._wrapper, args=args2)\n",
    "        self.processes.append(p)\n",
    "        p.start()\n",
    "\n",
    "    def wait(self):\n",
    "        rets = []\n",
    "        for p in self.processes:\n",
    "            ret = self.queue.get()\n",
    "            rets.append(ret)\n",
    "        for p in self.processes:\n",
    "            p.join()\n",
    "        return rets"
   ]
  },
  {
   "cell_type": "code",
   "execution_count": null,
   "metadata": {},
   "outputs": [],
   "source": [
    "# tester\n",
    "if __name__ == \"__main__\":\n",
    "    mp = Multiprocessor()\n",
    "    num_proc = 3\n",
    "    for _ in range(num_proc): # queue up multiple tasks running `sum`\n",
    "        mp.run(b.position.find_me)\n",
    "    ret = mp.wait() # get all results\n",
    "    print(ret)\n",
    "    assert len(ret) == num_proc and all(r == 15 for r in ret)"
   ]
  },
  {
   "cell_type": "code",
   "execution_count": 7,
   "metadata": {},
   "outputs": [],
   "source": [
    "action = MovingAction(\"left\", 200)\n",
    "b.position.find_me()\n",
    "action_thread = threading.Thread(name=\"action\", target=b.position.move, args=(action.distance, action.direction,))\n",
    "action_thread.start()\n",
    "action_thread.join()"
   ]
  },
  {
   "cell_type": "markdown",
   "metadata": {},
   "source": [
    "## Solve a task"
   ]
  },
  {
   "cell_type": "code",
   "execution_count": 27,
   "metadata": {},
   "outputs": [
    {
     "name": "stdout",
     "output_type": "stream",
     "text": [
      "What task would you like to perform?:\n",
      "0: Troubleshoot\n",
      "1: Swipe_Card\n",
      "2: Download_Upload\n",
      "3: Fuel_Engines\n",
      "4: Divert_Power\n",
      "5: Empty_Chute\n",
      "6: Accept_Power\n",
      "7: Fix_Wires\n",
      "8: Prime_Shields\n",
      "9: Inspect_Sample\n",
      "10: Stabilize_Steering\n",
      "11: Submit_Scan\n",
      "12: Align_Engine_Output\n",
      "13: Clear_Asteroids\n",
      "14: Clean_O2_Filter\n",
      "15: Calibrate_Distributor\n",
      "16: Start_Reactor\n",
      "17: Chart_Course\n",
      "18: Unlock_Manifold\n"
     ]
    },
    {
     "name": "stdin",
     "output_type": "stream",
     "text": [
      "options: 13\n"
     ]
    }
   ],
   "source": [
    "b.game_map.task_manager.prompt_task()"
   ]
  },
  {
   "cell_type": "markdown",
   "metadata": {},
   "source": [
    "## Complete menu"
   ]
  },
  {
   "cell_type": "code",
   "execution_count": 5,
   "metadata": {},
   "outputs": [],
   "source": [
    "b.menu()"
   ]
  },
  {
   "cell_type": "markdown",
   "metadata": {},
   "source": [
    "### Troubleshoot"
   ]
  },
  {
   "cell_type": "code",
   "execution_count": 32,
   "metadata": {},
   "outputs": [
    {
     "data": {
      "text/plain": [
       "(192, 199, 199)"
      ]
     },
     "execution_count": 32,
     "metadata": {},
     "output_type": "execute_result"
    }
   ],
   "source": [
    "# b.game_map.task_manager.solve_task(TaskType.Troubleshoot)\n",
    "pixel_that_you_want_to_know_the_color = (1769, 942)\n",
    "im = pyautogui.screenshot()\n",
    "im.getpixel(pixel_that_you_want_to_know_the_color)"
   ]
  },
  {
   "cell_type": "markdown",
   "metadata": {},
   "source": [
    "## Notes"
   ]
  },
  {
   "cell_type": "markdown",
   "metadata": {},
   "source": [
    "- **0: Align Engine (Upper Engine)**\n",
    "- **1: Align Engine (Lower Engine)**\n",
    "- **2: Calibrate Distributor**\n",
    "- **3: Chart Course**\n",
    "- **4: Clean O2 Filter**\n",
    "- **5: Clear Asteroids**\n",
    "- **6: Divert Power**\n",
    "- **7: Accept Power (Communications)**\n",
    "- **8: Accept Power (Lower Engine)**\n",
    "- **9: Accept Power (Upper Engine)**\n",
    "- **10: Accept Power (Navigation)**\n",
    "- **11: Accept Power (O2)**\n",
    "- **12: Accept Power (Security)**\n",
    "- **13: Accept Power (Shields)**\n",
    "- **14: Accept Power (Weapons)**\n",
    "- **15: Empty Garbage/Chute (Cafeteria)**\n",
    "- **16: Empty Garbage/Chute (O2)**\n",
    "- **17: Empty Garbage/Chute (Storage)**\n",
    "- **18: Fix Wires (Electrical)**\n",
    "- **19: Fix Wires (Storage)**\n",
    "- **20: Fix Wires (Security)**\n",
    "- **21: Fix Wires (Navigation)**\n",
    "- **22: Fix Wires (Admin)**\n",
    "- **23: Fix Wires (Cafeteria)**\n",
    "- **24: Fuel Engine (Storage)**\n",
    "- **25: Fuel Engine (Lower Engine)**\n",
    "- **26: Fuel Engine (Upper Engine)**\n",
    "- **27: Inspect Sample**\n",
    "- 28: Prime Shields\n",
    "- **29: Stabilize Steering**\n",
    "- **30: Start Reactor**\n",
    "- **31: Submit Scan**\n",
    "- **32: Swipe Card**\n",
    "- **33: Unlock Manifolds**\n",
    "- **34: Download/Upload (Cafeteria)**\n",
    "- **35: Download/Upload (Admin)**\n",
    "- **36: Download/Upload (Communications)**\n",
    "- **37: Download/Upload (Electrical)**\n",
    "- **38: Download/Upload (Navigation)**\n",
    "- **39: Download/Upload (Weapons)**"
   ]
  },
  {
   "cell_type": "code",
   "execution_count": null,
   "metadata": {},
   "outputs": [],
   "source": []
  }
 ],
 "metadata": {
  "kernelspec": {
   "display_name": "Python 3",
   "language": "python",
   "name": "python3"
  },
  "language_info": {
   "codemirror_mode": {
    "name": "ipython",
    "version": 3
   },
   "file_extension": ".py",
   "mimetype": "text/x-python",
   "name": "python",
   "nbconvert_exporter": "python",
   "pygments_lexer": "ipython3",
   "version": "3.8.3"
  }
 },
 "nbformat": 4,
 "nbformat_minor": 4
}
