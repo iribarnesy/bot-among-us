{
 "cells": [
  {
   "cell_type": "code",
   "execution_count": 1,
   "metadata": {},
   "outputs": [],
   "source": [
    "from src.bot import *\n",
    "from time import sleep\n",
    "\n",
    "# !pip install -r requirements.txt\n",
    "b = Bot()\n",
    "gm = game_map.SkeldMap()"
   ]
  },
  {
   "cell_type": "markdown",
   "metadata": {},
   "source": [
    "## Navigate to coordinates"
   ]
  },
  {
   "cell_type": "code",
   "execution_count": 2,
   "metadata": {},
   "outputs": [
    {
     "data": {
      "text/plain": [
       "[5.00 x right,\n",
       " 2.83 x top-right,\n",
       " 8.00 x right,\n",
       " 1.41 x top-right,\n",
       " 1.00 x right,\n",
       " 1.41 x top-right,\n",
       " 10.00 x right,\n",
       " 1.41 x top-right,\n",
       " 5.00 x right,\n",
       " 2.83 x top-right,\n",
       " 25.00 x right,\n",
       " 16.97 x bottom-right,\n",
       " 1.00 x bottom,\n",
       " 4.24 x bottom-right,\n",
       " 1.00 x bottom,\n",
       " 1.41 x bottom-right,\n",
       " 70.00 x right,\n",
       " 1.00 x top,\n",
       " 2.83 x top-right,\n",
       " 2.00 x top,\n",
       " 1.41 x top-right,\n",
       " 3.00 x top,\n",
       " 1.41 x top-right,\n",
       " 1.00 x top,\n",
       " 16.97 x top-right,\n",
       " 2.00 x top,\n",
       " 2.83 x top-right,\n",
       " 1.00 x top,\n",
       " 28.28 x top-right,\n",
       " 2.00 x top,\n",
       " 5.66 x top-right,\n",
       " 70.00 x top,\n",
       " 2.83 x top-right,\n",
       " 1.00 x top,\n",
       " 4.24 x top-right,\n",
       " 1.00 x top,\n",
       " 4.24 x top-right,\n",
       " 1.00 x top,\n",
       " 2.83 x top-right,\n",
       " 2.00 x top,\n",
       " 14.14 x top-right,\n",
       " 1.00 x top,\n",
       " 2.83 x top-right,\n",
       " 5.00 x top,\n",
       " 4.24 x top-right,\n",
       " 1.00 x top,\n",
       " 8.49 x top-right]"
      ]
     },
     "execution_count": 2,
     "metadata": {},
     "output_type": "execute_result"
    }
   ],
   "source": [
    "factor = 4\n",
    "destination = (1120//factor,240//factor)\n",
    "b.get_moving_actions_to_destination(destination)"
   ]
  },
  {
   "cell_type": "markdown",
   "metadata": {},
   "source": [
    "## Navigate to a task"
   ]
  },
  {
   "cell_type": "code",
   "execution_count": 3,
   "metadata": {},
   "outputs": [],
   "source": [
    "from src.navigation import *\n",
    "\n",
    "navManager = b.game_map.navigationManager\n",
    "navManager.map_img_path = \"src/img/WalkableMesh_resize_small.png\"\n",
    "\n",
    "navManager.init_matrix()"
   ]
  },
  {
   "cell_type": "code",
   "execution_count": 4,
   "metadata": {},
   "outputs": [
    {
     "name": "stdout",
     "output_type": "stream",
     "text": [
      "factor: 4\n",
      "It took 0.9519727230072021 s\n",
      "[(60, 216), (61, 216), (62, 216), (63, 216), (64, 216), (65, 216), (66, 215), (67, 214), (68, 214), (69, 214), (70, 214), (71, 214), (72, 214), (73, 214), (74, 214), (75, 214), (76, 213), (77, 213), (78, 212), (79, 212), (80, 212), (81, 212), (82, 212), (83, 212), (84, 212), (85, 212), (86, 212), (87, 212), (88, 212), (89, 211), (90, 211), (91, 211), (92, 211), (93, 211), (94, 211), (95, 210), (96, 209), (97, 209), (98, 209), (99, 209), (100, 209), (101, 209), (102, 209), (103, 209), (104, 209), (105, 209), (106, 209), (107, 209), (108, 209), (109, 209), (110, 209), (111, 209), (112, 209), (113, 209), (114, 209), (115, 209), (116, 209), (117, 209), (118, 209), (119, 209), (120, 209), (121, 209), (122, 210), (123, 211), (124, 212), (125, 213), (126, 214), (127, 215), (128, 216), (129, 217), (130, 218), (131, 219), (132, 220), (133, 221), (133, 222), (134, 223), (135, 224), (136, 225), (136, 226), (137, 227), (138, 227), (139, 227), (140, 227), (141, 227), (142, 227), (143, 227), (144, 227), (145, 227), (146, 227), (147, 227), (148, 227), (149, 227), (150, 227), (151, 227), (152, 227), (153, 227), (154, 227), (155, 227), (156, 227), (157, 227), (158, 227), (159, 227), (160, 227), (161, 227), (162, 227), (163, 227), (164, 227), (165, 227), (166, 227), (167, 227), (168, 227), (169, 227), (170, 227), (171, 227), (172, 227), (173, 227), (174, 227), (175, 227), (176, 227), (177, 227), (178, 227), (179, 227), (180, 227), (181, 227), (182, 227), (183, 227), (184, 227), (185, 227), (186, 227), (187, 227), (188, 227), (189, 227), (190, 227), (191, 227), (192, 227), (193, 227), (194, 227), (195, 227), (196, 227), (197, 227), (198, 227), (199, 227), (200, 227), (201, 227), (202, 227), (203, 227), (204, 227), (205, 227), (206, 227), (207, 227), (207, 226), (208, 225), (209, 224), (209, 223), (209, 222), (210, 221), (210, 220), (210, 219), (210, 218), (211, 217), (211, 216), (212, 215), (213, 214), (214, 213), (215, 212), (216, 211), (217, 210), (218, 209), (219, 208), (220, 207), (221, 206), (222, 205), (223, 204), (223, 203), (223, 202), (224, 201), (225, 200), (225, 199), (226, 198), (227, 197), (228, 196), (229, 195), (230, 194), (231, 193), (232, 192), (233, 191), (234, 190), (235, 189), (236, 188), (237, 187), (238, 186), (239, 185), (240, 184), (241, 183), (242, 182), (243, 181), (244, 180), (245, 179), (245, 178), (245, 177), (246, 176), (247, 175), (248, 174), (249, 173), (249, 172), (249, 171), (249, 170), (249, 169), (249, 168), (249, 167), (249, 166), (249, 165), (249, 164), (249, 163), (249, 162), (249, 161), (249, 160), (249, 159), (249, 158), (249, 157), (249, 156), (249, 155), (249, 154), (249, 153), (249, 152), (249, 151), (249, 150), (249, 149), (249, 148), (249, 147), (249, 146), (249, 145), (249, 144), (249, 143), (249, 142), (249, 141), (249, 140), (249, 139), (249, 138), (249, 137), (249, 136), (249, 135), (249, 134), (249, 133), (249, 132), (249, 131), (249, 130), (249, 129), (249, 128), (249, 127), (249, 126), (249, 125), (249, 124), (249, 123), (249, 122), (249, 121), (249, 120), (249, 119), (249, 118), (249, 117), (249, 116), (249, 115), (249, 114), (249, 113), (249, 112), (249, 111), (249, 110), (249, 109), (249, 108), (249, 107), (249, 106), (249, 105), (249, 104), (249, 103), (250, 102), (251, 101), (251, 100), (252, 99), (253, 98), (254, 97), (254, 96), (255, 95), (256, 94), (257, 93), (257, 92), (258, 91), (259, 90), (259, 89), (259, 88), (260, 87), (261, 86), (262, 85), (263, 84), (264, 83), (265, 82), (266, 81), (267, 80), (268, 79), (269, 78), (269, 77), (270, 76), (271, 75), (271, 74), (271, 73), (271, 72), (271, 71), (271, 70), (272, 69), (273, 68), (274, 67), (274, 66), (275, 65), (276, 64), (277, 63), (278, 62), (279, 61), (280, 60)]\n"
     ]
    }
   ],
   "source": [
    "from src.navigation import *\n",
    "\n",
    "map_matrix = [\n",
    "            [1, 1, 1, 1],\n",
    "            [0, 0 ,0 ,1],\n",
    "            [1, 1, 1, 1]\n",
    "            ]\n",
    "\n",
    "print(\"It took\", time.time() - start, \"s\")\n",
    "print(path)"
   ]
  },
  {
   "cell_type": "code",
   "execution_count": 5,
   "metadata": {},
   "outputs": [],
   "source": [
    "result_file_path=\"src/img/result_path.txt\"\n",
    "grid_str = navManager.path_to_grid(path, must_print=False, result_file_path=result_file_path)"
   ]
  },
  {
   "cell_type": "markdown",
   "metadata": {},
   "source": [
    "## Solve a task"
   ]
  },
  {
   "cell_type": "code",
   "execution_count": 3,
   "metadata": {},
   "outputs": [
    {
     "name": "stdout",
     "output_type": "stream",
     "text": [
      "What task would you like to perform?:\n",
      "0: Troubleshoot\n",
      "1: Swipe_Card\n",
      "2: Download_Upload\n",
      "3: Fuel_Engines\n",
      "4: Divert_Power\n",
      "5: Empty_Chute\n",
      "6: Accept_Power\n",
      "7: Fix_Wires\n",
      "8: Prime_Shields\n",
      "9: Inspect_Sample\n",
      "10: Stabilize_Steering\n",
      "11: Submit_Scan\n",
      "12: Align_Engine_Output\n",
      "13: Clear_Asteroids\n",
      "14: Clean_O2_Filter\n",
      "15: Calibrate_Distributor\n",
      "16: Start_Reactor\n",
      "17: Chart_Course\n",
      "18: Unlock_Manifold\n"
     ]
    },
    {
     "name": "stdin",
     "output_type": "stream",
     "text": [
      "options: 1\n"
     ]
    }
   ],
   "source": [
    "gm.prompt_task()"
   ]
  },
  {
   "cell_type": "markdown",
   "metadata": {},
   "source": [
    "## Complete menu"
   ]
  },
  {
   "cell_type": "code",
   "execution_count": 5,
   "metadata": {},
   "outputs": [],
   "source": [
    "b.menu()"
   ]
  },
  {
   "cell_type": "markdown",
   "metadata": {},
   "source": [
    "## Notes"
   ]
  },
  {
   "cell_type": "markdown",
   "metadata": {},
   "source": [
    "- 0: Align Engine (Upper Engine)\n",
    "- 1: Align Engine (Lower Engine)\n",
    "- 2: Calibrate Distributor\n",
    "- 3: Chart Course\n",
    "- 4: Clean O2 Filter\n",
    "- 5: Clear Asteroids\n",
    "- 6: Divert Power\n",
    "- 7: Accept Power (Communications)\n",
    "- 8: Accept Power (Lower Engine)\n",
    "- 9: Accept Power (Upper Engine)\n",
    "- 10: Accept Power (Navigation)\n",
    "- 11: Accept Power (O2)\n",
    "- 12: Accept Power (Security)\n",
    "- 13: Accept Power (Shields)\n",
    "- 14: Accept Power (Weapons)\n",
    "- 15: Empty Garbage/Chute (Cafeteria)\n",
    "- 16: Empty Garbage/Chute (O2)\n",
    "- 17: Empty Garbage/Chute (Storage)\n",
    "- 18: Fix Wires (Electrical)\n",
    "- 19: Fix Wires (Storage)\n",
    "- 20: Fix Wires (Security)\n",
    "- 21: Fix Wires (Navigation)\n",
    "- 22: Fix Wires (Admin)\n",
    "- 23: Fix Wires (Cafeteria)\n",
    "- 24: Fuel Engine (Storage)\n",
    "- 25: Fuel Engine (Lower Engine)\n",
    "- 26: Fuel Engine (Upper Engine)\n",
    "- 27: Inspect Sample\n",
    "- 28: Prime Shields\n",
    "- 29: Stabilize Steering\n",
    "- 30: Start Reactor\n",
    "- 31: Submit Scan\n",
    "- 32: Swipe Card\n",
    "- 33: Unlock Manifolds\n",
    "- 34: Download/Upload (Cafeteria)\n",
    "- 35: Download/Upload (Admin)\n",
    "- 36: Download/Upload (Communications)\n",
    "- 37: Download/Upload (Electrical)\n",
    "- 38: Download/Upload (Navigation)\n",
    "- 39: Download/Upload (Weapons)"
   ]
  }
 ],
 "metadata": {
  "kernelspec": {
   "display_name": "Python 3",
   "language": "python",
   "name": "python3"
  },
  "language_info": {
   "codemirror_mode": {
    "name": "ipython",
    "version": 3
   },
   "file_extension": ".py",
   "mimetype": "text/x-python",
   "name": "python",
   "nbconvert_exporter": "python",
   "pygments_lexer": "ipython3",
   "version": "3.8.5"
  }
 },
 "nbformat": 4,
 "nbformat_minor": 4
}
