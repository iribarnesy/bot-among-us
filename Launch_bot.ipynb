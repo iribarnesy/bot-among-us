{
 "cells": [
  {
   "cell_type": "code",
   "execution_count": 1,
   "metadata": {},
   "outputs": [
    {
     "name": "stdout",
     "output_type": "stream",
     "text": [
      "environments\\bot-among-us-311007-5e92f33561d5.json\n"
     ]
    }
   ],
   "source": [
    "import pytesseract\n",
    "from time import sleep\n",
    "from PIL import ImageGrab, Image\n",
    "\n",
    "from src.bot import *\n",
    "from src.tasks import *\n",
    "from src.navigation import *\n",
    "from src.vision import *\n",
    "from src.position import *\n",
    "from src.enums.pixels import *\n",
    "from src.enums.images import *\n",
    "from src.enums.texts import *\n",
    "from src.utils import *\n",
    "\n",
    "\n",
    "# Connecter API Cloud Vision\n",
    "# recup le fichier json de la clé\n",
    "# si cmd\n",
    "# !set GOOGLE_APPLICATION_CREDENTIALS=environments\\bot-among-us-311007-5e92f33561d5.json\n",
    "# si cmd et que ça marche pas\n",
    "# !setx GOOGLE_APPLICATION_CREDENTIALS environments\\bot-among-us-311007-5e92f33561d5.json\n",
    "# si powershell\n",
    "# !$Env:GOOGLE_APPLICATION_CREDENTIALS = \"environments\\bot-among-us-311007-5e92f33561d5.json\"\n",
    "# Si ça marche pas il faut redémarrer jupyter (pas juste le notebook)\n",
    "!echo %GOOGLE_APPLICATION_CREDENTIALS%\n",
    "\n",
    "pytesseract.pytesseract.tesseract_cmd = r\"C:\\Program Files\\Tesseract-OCR\\tesseract.exe\"\n",
    "\n",
    "# !pip install -r requirements.txt\n",
    "b = Bot('src/img/new_walkable_small.png')"
   ]
  },
  {
   "cell_type": "markdown",
   "metadata": {},
   "source": [
    "## Players recognition"
   ]
  },
  {
   "cell_type": "code",
   "execution_count": 2,
   "metadata": {},
   "outputs": [
    {
     "name": "stdout",
     "output_type": "stream",
     "text": [
      "Key.alt_l\n",
      "Oops, attribute error on key Key.alt_l\n",
      "Key.tab\n",
      "Oops, attribute error on key Key.tab\n",
      "'n'\n",
      "Key.alt_l\n",
      "Oops, attribute error on key Key.alt_l\n",
      "Key.tab\n",
      "Oops, attribute error on key Key.tab\n",
      "Key.alt_l\n",
      "Oops, attribute error on key Key.alt_l\n",
      "Key.tab\n",
      "Oops, attribute error on key Key.tab\n",
      "Key.right\n",
      "Oops, attribute error on key Key.right\n",
      "Key.down\n",
      "Oops, attribute error on key Key.down\n",
      "Key.down\n",
      "Oops, attribute error on key Key.down\n",
      "Key.down\n",
      "Oops, attribute error on key Key.down\n",
      "Key.down\n",
      "Oops, attribute error on key Key.down\n",
      "Key.down\n",
      "Oops, attribute error on key Key.down\n",
      "Key.down\n",
      "Oops, attribute error on key Key.down\n",
      "Key.down\n",
      "Oops, attribute error on key Key.down\n",
      "Key.down\n",
      "Oops, attribute error on key Key.down\n",
      "Key.down\n",
      "Oops, attribute error on key Key.down\n",
      "Key.down\n",
      "Oops, attribute error on key Key.down\n",
      "Key.down\n",
      "Oops, attribute error on key Key.down\n",
      "Key.down\n",
      "Oops, attribute error on key Key.down\n",
      "Key.down\n",
      "Oops, attribute error on key Key.down\n",
      "Key.down\n",
      "Oops, attribute error on key Key.down\n",
      "Key.down\n",
      "Oops, attribute error on key Key.down\n",
      "Key.down\n",
      "Oops, attribute error on key Key.down\n",
      "Key.down\n",
      "Oops, attribute error on key Key.down\n",
      "Key.down\n",
      "Oops, attribute error on key Key.down\n",
      "Key.down\n",
      "Oops, attribute error on key Key.down\n",
      "Key.down\n",
      "Oops, attribute error on key Key.down\n",
      "Key.down\n",
      "Oops, attribute error on key Key.down\n",
      "Key.down\n",
      "Oops, attribute error on key Key.down\n",
      "Key.down\n",
      "Oops, attribute error on key Key.down\n",
      "Key.down\n",
      "Oops, attribute error on key Key.down\n",
      "Key.down\n",
      "Oops, attribute error on key Key.down\n",
      "Key.down\n",
      "Oops, attribute error on key Key.down\n",
      "Key.down\n",
      "Oops, attribute error on key Key.down\n",
      "Key.down\n",
      "Oops, attribute error on key Key.down\n",
      "Key.down\n",
      "Oops, attribute error on key Key.down\n",
      "Key.down\n",
      "Oops, attribute error on key Key.down\n",
      "Key.down\n",
      "Oops, attribute error on key Key.down\n",
      "'p'\n",
      "positive\n",
      "Key.alt_l\n",
      "Oops, attribute error on key Key.alt_l\n",
      "Key.tab\n",
      "Oops, attribute error on key Key.tab\n",
      "Key.esc\n",
      "Oops, attribute error on key Key.esc\n"
     ]
    },
    {
     "ename": "KeyboardInterrupt",
     "evalue": "",
     "output_type": "error",
     "traceback": [
      "\u001b[1;31m---------------------------------------------------------------------------\u001b[0m",
      "\u001b[1;31mKeyboardInterrupt\u001b[0m                         Traceback (most recent call last)",
      "\u001b[1;32m<ipython-input-2-88bc15eac8c2>\u001b[0m in \u001b[0;36m<module>\u001b[1;34m\u001b[0m\n\u001b[0;32m      1\u001b[0m \u001b[1;32mfrom\u001b[0m \u001b[0msrc\u001b[0m\u001b[1;33m.\u001b[0m\u001b[0mplayers_recognition\u001b[0m\u001b[1;33m.\u001b[0m\u001b[0mutils\u001b[0m \u001b[1;32mimport\u001b[0m \u001b[1;33m*\u001b[0m\u001b[1;33m\u001b[0m\u001b[1;33m\u001b[0m\u001b[0m\n\u001b[1;32m----> 2\u001b[1;33m \u001b[0mscreen_positive_negative\u001b[0m\u001b[1;33m(\u001b[0m\u001b[1;33m)\u001b[0m\u001b[1;33m\u001b[0m\u001b[1;33m\u001b[0m\u001b[0m\n\u001b[0m",
      "\u001b[1;32m~\\EISTI\\PFE\\among-us-bot\\src\\players_recognition\\utils.py\u001b[0m in \u001b[0;36mscreen_positive_negative\u001b[1;34m()\u001b[0m\n\u001b[0;32m     30\u001b[0m             \u001b[0mon_press\u001b[0m\u001b[1;33m=\u001b[0m\u001b[0mon_press\u001b[0m\u001b[1;33m,\u001b[0m\u001b[1;33m\u001b[0m\u001b[1;33m\u001b[0m\u001b[0m\n\u001b[0;32m     31\u001b[0m             on_release=on_release) as listener:\n\u001b[1;32m---> 32\u001b[1;33m         \u001b[0mlistener\u001b[0m\u001b[1;33m.\u001b[0m\u001b[0mjoin\u001b[0m\u001b[1;33m(\u001b[0m\u001b[1;33m)\u001b[0m\u001b[1;33m\u001b[0m\u001b[1;33m\u001b[0m\u001b[0m\n\u001b[0m\u001b[0;32m     33\u001b[0m \u001b[1;33m\u001b[0m\u001b[0m\n\u001b[0;32m     34\u001b[0m \u001b[1;33m\u001b[0m\u001b[0m\n",
      "\u001b[1;32m~\\anaconda3\\lib\\site-packages\\pynput\\_util\\__init__.py\u001b[0m in \u001b[0;36mjoin\u001b[1;34m(self, *args)\u001b[0m\n\u001b[0;32m    250\u001b[0m \u001b[1;33m\u001b[0m\u001b[0m\n\u001b[0;32m    251\u001b[0m     \u001b[1;32mdef\u001b[0m \u001b[0mjoin\u001b[0m\u001b[1;33m(\u001b[0m\u001b[0mself\u001b[0m\u001b[1;33m,\u001b[0m \u001b[1;33m*\u001b[0m\u001b[0margs\u001b[0m\u001b[1;33m)\u001b[0m\u001b[1;33m:\u001b[0m\u001b[1;33m\u001b[0m\u001b[1;33m\u001b[0m\u001b[0m\n\u001b[1;32m--> 252\u001b[1;33m         \u001b[0msuper\u001b[0m\u001b[1;33m(\u001b[0m\u001b[0mAbstractListener\u001b[0m\u001b[1;33m,\u001b[0m \u001b[0mself\u001b[0m\u001b[1;33m)\u001b[0m\u001b[1;33m.\u001b[0m\u001b[0mjoin\u001b[0m\u001b[1;33m(\u001b[0m\u001b[1;33m*\u001b[0m\u001b[0margs\u001b[0m\u001b[1;33m)\u001b[0m\u001b[1;33m\u001b[0m\u001b[1;33m\u001b[0m\u001b[0m\n\u001b[0m\u001b[0;32m    253\u001b[0m \u001b[1;33m\u001b[0m\u001b[0m\n\u001b[0;32m    254\u001b[0m         \u001b[1;31m# Reraise any exceptions\u001b[0m\u001b[1;33m\u001b[0m\u001b[1;33m\u001b[0m\u001b[1;33m\u001b[0m\u001b[0m\n",
      "\u001b[1;32m~\\anaconda3\\lib\\threading.py\u001b[0m in \u001b[0;36mjoin\u001b[1;34m(self, timeout)\u001b[0m\n\u001b[0;32m   1009\u001b[0m \u001b[1;33m\u001b[0m\u001b[0m\n\u001b[0;32m   1010\u001b[0m         \u001b[1;32mif\u001b[0m \u001b[0mtimeout\u001b[0m \u001b[1;32mis\u001b[0m \u001b[1;32mNone\u001b[0m\u001b[1;33m:\u001b[0m\u001b[1;33m\u001b[0m\u001b[1;33m\u001b[0m\u001b[0m\n\u001b[1;32m-> 1011\u001b[1;33m             \u001b[0mself\u001b[0m\u001b[1;33m.\u001b[0m\u001b[0m_wait_for_tstate_lock\u001b[0m\u001b[1;33m(\u001b[0m\u001b[1;33m)\u001b[0m\u001b[1;33m\u001b[0m\u001b[1;33m\u001b[0m\u001b[0m\n\u001b[0m\u001b[0;32m   1012\u001b[0m         \u001b[1;32melse\u001b[0m\u001b[1;33m:\u001b[0m\u001b[1;33m\u001b[0m\u001b[1;33m\u001b[0m\u001b[0m\n\u001b[0;32m   1013\u001b[0m             \u001b[1;31m# the behavior of a negative timeout isn't documented, but\u001b[0m\u001b[1;33m\u001b[0m\u001b[1;33m\u001b[0m\u001b[1;33m\u001b[0m\u001b[0m\n",
      "\u001b[1;32m~\\anaconda3\\lib\\threading.py\u001b[0m in \u001b[0;36m_wait_for_tstate_lock\u001b[1;34m(self, block, timeout)\u001b[0m\n\u001b[0;32m   1025\u001b[0m         \u001b[1;32mif\u001b[0m \u001b[0mlock\u001b[0m \u001b[1;32mis\u001b[0m \u001b[1;32mNone\u001b[0m\u001b[1;33m:\u001b[0m  \u001b[1;31m# already determined that the C code is done\u001b[0m\u001b[1;33m\u001b[0m\u001b[1;33m\u001b[0m\u001b[0m\n\u001b[0;32m   1026\u001b[0m             \u001b[1;32massert\u001b[0m \u001b[0mself\u001b[0m\u001b[1;33m.\u001b[0m\u001b[0m_is_stopped\u001b[0m\u001b[1;33m\u001b[0m\u001b[1;33m\u001b[0m\u001b[0m\n\u001b[1;32m-> 1027\u001b[1;33m         \u001b[1;32melif\u001b[0m \u001b[0mlock\u001b[0m\u001b[1;33m.\u001b[0m\u001b[0macquire\u001b[0m\u001b[1;33m(\u001b[0m\u001b[0mblock\u001b[0m\u001b[1;33m,\u001b[0m \u001b[0mtimeout\u001b[0m\u001b[1;33m)\u001b[0m\u001b[1;33m:\u001b[0m\u001b[1;33m\u001b[0m\u001b[1;33m\u001b[0m\u001b[0m\n\u001b[0m\u001b[0;32m   1028\u001b[0m             \u001b[0mlock\u001b[0m\u001b[1;33m.\u001b[0m\u001b[0mrelease\u001b[0m\u001b[1;33m(\u001b[0m\u001b[1;33m)\u001b[0m\u001b[1;33m\u001b[0m\u001b[1;33m\u001b[0m\u001b[0m\n\u001b[0;32m   1029\u001b[0m             \u001b[0mself\u001b[0m\u001b[1;33m.\u001b[0m\u001b[0m_stop\u001b[0m\u001b[1;33m(\u001b[0m\u001b[1;33m)\u001b[0m\u001b[1;33m\u001b[0m\u001b[1;33m\u001b[0m\u001b[0m\n",
      "\u001b[1;31mKeyboardInterrupt\u001b[0m: "
     ]
    }
   ],
   "source": [
    "from src.players_recognition.utils import *\n",
    "screen_positive_negative()"
   ]
  },
  {
   "cell_type": "markdown",
   "metadata": {},
   "source": [
    "## Auto crewmate"
   ]
  },
  {
   "cell_type": "code",
   "execution_count": 2,
   "metadata": {
    "collapsed": true,
    "jupyter": {
     "outputs_hidden": true
    }
   },
   "outputs": [
    {
     "name": "stdout",
     "output_type": "stream",
     "text": [
      "Game phase : Do your tasks ! 🏃‍♂️\n",
      "Stabilize Steering\n",
      "Chart Course\n",
      "Submit Scan\n",
      "Fix Wires (Electrical)\n",
      "Next task : Stabilize Steering\n",
      "Perform task : Stabilize Steering 🦾\n",
      "Chart Course\n",
      "Submit Scan\n",
      "Fix Wires (Electrical)\n",
      "Next task : Chart Course\n",
      "Perform task : Chart Course 🦾\n",
      "99, 130\n",
      "117, 138\n",
      "118, 138\n",
      "117, 139\n",
      "118, 139\n",
      "117, 140\n",
      "118, 140\n",
      "119, 140\n",
      "117, 141\n",
      "118, 141\n",
      "119, 141\n",
      "117, 142\n",
      "118, 142\n",
      "120, 143\n",
      "120, 144\n",
      "121, 144\n",
      "120, 145\n",
      "121, 145\n",
      "121, 146\n",
      "126, 153\n",
      "256, 248\n",
      "270, 259\n",
      "271, 259\n",
      "270, 260\n",
      "271, 260\n",
      "272, 260\n",
      "272, 261\n",
      "273, 261\n",
      "274, 261\n",
      "273, 262\n",
      "274, 262\n",
      "275, 262\n",
      "274, 263\n",
      "275, 263\n",
      "276, 263\n",
      "276, 264\n",
      "277, 264\n",
      "278, 264\n",
      "277, 265\n",
      "278, 265\n",
      "293, 275\n",
      "293, 276\n",
      "294, 276\n",
      "294, 277\n",
      "295, 277\n",
      "296, 277\n",
      "295, 278\n",
      "296, 278\n",
      "297, 278\n",
      "312, 278\n",
      "313, 278\n",
      "296, 279\n",
      "297, 279\n",
      "298, 279\n",
      "298, 280\n",
      "299, 280\n",
      "300, 280\n",
      "299, 281\n",
      "300, 281\n",
      "301, 281\n",
      "534, 362\n",
      "534, 363\n",
      "533, 364\n",
      "534, 364\n",
      "532, 365\n",
      "533, 365\n",
      "532, 366\n",
      "533, 366\n",
      "531, 367\n",
      "532, 367\n",
      "530, 368\n",
      "531, 368\n",
      "531, 369\n",
      "520, 383\n",
      "519, 384\n",
      "520, 384\n",
      "519, 385\n",
      "520, 385\n",
      "518, 386\n",
      "519, 386\n",
      "456, 392\n",
      "456, 393\n",
      "457, 393\n",
      "456, 394\n",
      "457, 394\n",
      "458, 394\n",
      "458, 395\n",
      "460, 395\n",
      "505, 404\n",
      "473, 405\n",
      "474, 405\n",
      "473, 406\n",
      "474, 406\n",
      "475, 406\n",
      "475, 407\n",
      "476, 407\n",
      "477, 407\n",
      "476, 408\n",
      "477, 408\n",
      "478, 408\n",
      "477, 409\n",
      "478, 409\n",
      "479, 409\n",
      "479, 410\n",
      "480, 411\n",
      "498, 414\n",
      "694, 123\n",
      "695, 123\n",
      "695, 124\n",
      "695, 125\n",
      "696, 125\n",
      "697, 125\n",
      "698, 125\n",
      "699, 125\n",
      "700, 126\n",
      "700, 127\n",
      "701, 127\n",
      "705, 134\n",
      "690, 137\n",
      "691, 137\n",
      "692, 137\n",
      "693, 137\n",
      "694, 137\n",
      "689, 138\n",
      "690, 138\n",
      "691, 138\n",
      "693, 138\n",
      "694, 138\n",
      "695, 138\n",
      "688, 139\n",
      "689, 139\n",
      "695, 139\n",
      "696, 139\n",
      "688, 140\n",
      "689, 140\n",
      "696, 140\n",
      "697, 140\n",
      "687, 141\n",
      "688, 141\n",
      "712, 153\n",
      "713, 153\n",
      "712, 154\n",
      "713, 154\n",
      "714, 154\n",
      "713, 155\n",
      "714, 155\n",
      "715, 155\n",
      "714, 156\n",
      "715, 156\n",
      "716, 156\n",
      "676, 157\n",
      "677, 157\n",
      "716, 157\n",
      "717, 157\n",
      "675, 158\n",
      "676, 158\n",
      "717, 158\n",
      "718, 158\n",
      "675, 159\n",
      "676, 159\n",
      "718, 159\n",
      "719, 159\n",
      "720, 159\n",
      "675, 160\n",
      "721, 160\n",
      "674, 164\n",
      "661, 178\n",
      "660, 180\n",
      "661, 180\n",
      "659, 181\n",
      "660, 181\n",
      "659, 182\n",
      "660, 182\n",
      "658, 183\n",
      "659, 183\n",
      "657, 184\n",
      "658, 184\n",
      "657, 185\n",
      "658, 185\n",
      "656, 186\n",
      "657, 186\n",
      "656, 187\n",
      "859, 280\n",
      "859, 281\n",
      "860, 281\n",
      "860, 282\n",
      "861, 282\n",
      "862, 282\n",
      "861, 283\n",
      "862, 283\n",
      "863, 283\n",
      "862, 284\n",
      "863, 284\n",
      "864, 284\n",
      "863, 285\n",
      "864, 285\n",
      "865, 285\n",
      "865, 286\n",
      "866, 286\n",
      "883, 301\n",
      "883, 302\n",
      "884, 302\n",
      "885, 302\n",
      "860, 303\n",
      "884, 303\n",
      "885, 303\n",
      "886, 303\n",
      "885, 304\n",
      "886, 304\n",
      "887, 304\n",
      "853, 305\n",
      "886, 305\n",
      "855, 306\n",
      "Submit Scan\n",
      "Fix Wires (Electrical)\n",
      "Next task : Submit Scan\n",
      "Didn't find me ! 🙈\n",
      "Submit Scan\n",
      "Fix Wires (Electrical)\n",
      "Next task : Submit Scan\n",
      "Didn't find me ! 🙈\n",
      "Didn't find me ! 🙈\n",
      "Didn't find me ! 🙈\n",
      "Fix Wires (Electrical)\n",
      "Calibrate Distributor\n",
      "Download/Upload (Electrical)\n",
      "Accept Power (Security)\n",
      "Fix Wires (Security)\n",
      "Fix Wires (Storage)\n",
      "Download/Upload (Admin)\n",
      "Empty Garbage/Chute (O2)\n",
      "Accept Power (Lower Engine)\n",
      "Clean O2 Filter\n",
      "Start Reactor\n",
      "Fuel Engine (Upper Engine)\n",
      "Align Engine (Upper Engine)\n",
      "Unlock Manifolds\n",
      "Accept Power (Upper Engine)\n",
      "Accept Power (O2)\n",
      "Fuel Engine (Lower Engine)\n",
      "Align Engine (Lower Engine)\n",
      "Download/Upload (Communications)\n",
      "Accept Power (Shields)\n",
      "Accept Power (Communications)\n",
      "Accept Power (Weapons)\n",
      "Stabilize Steering\n",
      "Accept Power (Navigation)\n",
      "Chart Course\n",
      "Download/Upload (Navigation)\n",
      "Next task : Fix Wires (Electrical)\n",
      "Didn't find me ! 🙈\n",
      "Terminate : <KillableThread(tasks_resolution, started 85172)>\n",
      "Game phase : Do your tasks ! 🏃‍♂️\n",
      "Didn't find me ! 🙈\n",
      "Fix Wires (Security)\n",
      "Next task : Fix Wires (Security)\n",
      "Didn't find me ! 🙈\n"
     ]
    },
    {
     "name": "stderr",
     "output_type": "stream",
     "text": [
      "Exception in thread read_tasks:\n",
      "Traceback (most recent call last):\n",
      "  File \"C:\\Users\\iriba\\anaconda3\\lib\\threading.py\", line 932, in _bootstrap_inner\n",
      "    self.run()\n",
      "  File \"C:\\Users\\iriba\\EISTI\\PFE\\among-us-bot\\src\\utils.py\", line 95, in __run\n",
      "    self.__run_backup()\n",
      "  File \"C:\\Users\\iriba\\anaconda3\\lib\\threading.py\", line 870, in run\n",
      "    self._target(*self._args, **self._kwargs)\n",
      "  File \"C:\\Users\\iriba\\EISTI\\PFE\\among-us-bot\\src\\vision.py\", line 92, in read_tasks\n",
      "    result = self.detect_text(ImagesPath.TASKS_TAB_SCREEN.value).description\n",
      "  File \"C:\\Users\\iriba\\EISTI\\PFE\\among-us-bot\\src\\vision.py\", line 134, in detect_text\n",
      "    return texts[0]\n",
      "  File \"C:\\Users\\iriba\\anaconda3\\lib\\site-packages\\proto\\marshal\\collections\\repeated.py\", line 119, in __getitem__\n",
      "    return self._marshal.to_python(self._pb_type, self.pb[key])\n",
      "  File \"C:\\Users\\iriba\\anaconda3\\lib\\site-packages\\google\\protobuf\\internal\\containers.py\", line 209, in __getitem__\n",
      "    return self._values[key]\n",
      "IndexError: list index out of range\n"
     ]
    },
    {
     "name": "stdout",
     "output_type": "stream",
     "text": [
      "Didn't find me ! 🙈\n",
      "All tasks done ! ✅\n"
     ]
    }
   ],
   "source": [
    "sleep(3)\n",
    "blacklist_events = [\n",
    "#     'btnReportChanged', \n",
    "#     'btnKillChanged', \n",
    "    'btnSecurityChanged', \n",
    "    'btnAdminChanged', \n",
    "    'btnSabotageChanged', \n",
    "    'gamePhaseChanged', \n",
    "#     'sabotageRunningChanged'\n",
    "]\n",
    "\n",
    "### Run with some events not handled\n",
    "# b.run(react_to_events=True, blacklist_events=blacklist_events)\n",
    "### Run completely autonomous\n",
    "b.run()"
   ]
  },
  {
   "cell_type": "code",
   "execution_count": 5,
   "metadata": {},
   "outputs": [
    {
     "name": "stdout",
     "output_type": "stream",
     "text": [
      "Terminate : <KillableThread(compute_screen, started 84620)>\n",
      "Terminate : <KillableThread(read_tasks, started 83752)>\n",
      "Terminate : <KillableThread(tasks_resolution, stopped 84584)>\n"
     ]
    }
   ],
   "source": [
    "b.stop()"
   ]
  },
  {
   "cell_type": "markdown",
   "metadata": {},
   "source": [
    "## Vision"
   ]
  },
  {
   "cell_type": "code",
   "execution_count": 3,
   "metadata": {},
   "outputs": [
    {
     "name": "stdout",
     "output_type": "stream",
     "text": [
      "Run read_tasks !!\n",
      "Run read_tasks !!\n",
      "Detected that TaskType.Sabotage_Reactor is running ! ☣\n",
      "Run read_tasks !!\n",
      "Run read_tasks !!\n",
      "Terminate : <KillableThread(sabotage_resolution, started 80868)>\n",
      "Run read_tasks !!\n",
      "Detected that TaskType.Sabotage_Reactor is running ! ☣\n",
      "Run read_tasks !!\n",
      "Didn't find me ! 🙈\n",
      "Run read_tasks !!\n",
      "Terminate : <KillableThread(sabotage_resolution, started 81792)>\n",
      "Run read_tasks !!\n",
      "Run read_tasks !!\n",
      "Run read_tasks !!\n",
      "Run read_tasks !!\n",
      "Run read_tasks !!\n"
     ]
    }
   ],
   "source": [
    "sleep(3)\n",
    "VisionManager().want_to_read_tasks = True\n",
    "VisionManager().start_vision_loop()"
   ]
  },
  {
   "cell_type": "code",
   "execution_count": 3,
   "metadata": {},
   "outputs": [
    {
     "name": "stdout",
     "output_type": "stream",
     "text": [
      "Terminate : <KillableThread(compute_screen, started 81060)>\n",
      "Terminate : <KillableThread(read_tasks, stopped 84420)>\n"
     ]
    }
   ],
   "source": [
    "VisionManager().stop_vision_loop()"
   ]
  },
  {
   "cell_type": "code",
   "execution_count": 3,
   "metadata": {},
   "outputs": [
    {
     "name": "stdout",
     "output_type": "stream",
     "text": [
      "vision thread alive: False\n",
      "read tasks thread alive: False\n"
     ]
    }
   ],
   "source": [
    "print(\"vision thread alive:\", VisionManager().is_vision_looping())\n",
    "print(\"read tasks thread alive:\", VisionManager().is_read_tasks_running())"
   ]
  },
  {
   "cell_type": "markdown",
   "metadata": {},
   "source": [
    "### Check Button \n"
   ]
  },
  {
   "cell_type": "code",
   "execution_count": 9,
   "metadata": {},
   "outputs": [
    {
     "name": "stdout",
     "output_type": "stream",
     "text": [
      "impostor : True\n",
      "GamePhase.Game\n",
      "use : False\n",
      "report : False\n",
      "kill : False\n",
      "vent : False\n",
      "sabotage : False\n",
      "admin : False\n",
      "security : False\n"
     ]
    }
   ],
   "source": [
    "sleep(2)\n",
    "print(\"impostor :\", b.vision_manager.is_impostor())\n",
    "print(b.vision_manager.get_game_phase())\n",
    "print(\"use :\", b.vision_manager.is_btn_use_active())\n",
    "print(\"report :\", b.vision_manager.is_btn_report_active())\n",
    "print(\"kill :\", b.vision_manager.is_btn_kill_active())\n",
    "print(\"vent :\", b.vision_manager.is_btn_vent_active())\n",
    "print(\"sabotage :\", b.vision_manager.is_btn_sabotage_active())\n",
    "print(\"admin :\", b.vision_manager.is_btn_admin_active())\n",
    "print(\"security :\", b.vision_manager.is_btn_security_active())"
   ]
  },
  {
   "cell_type": "markdown",
   "metadata": {},
   "source": [
    "### Get the nearest Task"
   ]
  },
  {
   "cell_type": "code",
   "execution_count": 4,
   "metadata": {},
   "outputs": [
    {
     "data": {
      "text/plain": [
       "[5: Clear Asteroids,\n",
       " 6: Divert Power,\n",
       " 19: Fix Wires (Storage),\n",
       " 36: Download/Upload (Communications)]"
      ]
     },
     "execution_count": 4,
     "metadata": {},
     "output_type": "execute_result"
    }
   ],
   "source": [
    "b.get_tasks()"
   ]
  },
  {
   "cell_type": "code",
   "execution_count": 13,
   "metadata": {
    "collapsed": true,
    "jupyter": {
     "outputs_hidden": true
    }
   },
   "outputs": [
    {
     "data": {
      "text/plain": [
       "(978, 696)"
      ]
     },
     "execution_count": 13,
     "metadata": {},
     "output_type": "execute_result"
    }
   ],
   "source": [
    "b.get_tasks()[2].location"
   ]
  },
  {
   "cell_type": "code",
   "execution_count": 11,
   "metadata": {},
   "outputs": [
    {
     "name": "stdout",
     "output_type": "stream",
     "text": [
      "0\n",
      "0\n",
      "36\n",
      "0\n"
     ]
    }
   ],
   "source": [
    "tasks = b.get_tasks()\n",
    "for task in tasks:\n",
    "    print(len(b.game_map.navigation_manager.calculate_path(b.position.find_me(), task.location)))"
   ]
  },
  {
   "cell_type": "code",
   "execution_count": 14,
   "metadata": {},
   "outputs": [
    {
     "name": "stdout",
     "output_type": "stream",
     "text": [
      "Didn't find a path between source and target ! 🐾\n",
      "Didn't find a path between source and target ! 🐾\n",
      "Didn't find a path between source and target ! 🐾\n"
     ]
    },
    {
     "data": {
      "text/plain": [
       "5: Clear Asteroids"
      ]
     },
     "execution_count": 14,
     "metadata": {},
     "output_type": "execute_result"
    }
   ],
   "source": [
    "b.get_nearest_task()\n",
    "b.next_task"
   ]
  },
  {
   "cell_type": "code",
   "execution_count": 15,
   "metadata": {},
   "outputs": [
    {
     "data": {
      "text/plain": [
       "(1017, 592)"
      ]
     },
     "execution_count": 15,
     "metadata": {},
     "output_type": "execute_result"
    }
   ],
   "source": [
    "b.position.find_me()"
   ]
  },
  {
   "cell_type": "markdown",
   "metadata": {},
   "source": [
    "## Navigate"
   ]
  },
  {
   "cell_type": "code",
   "execution_count": 24,
   "metadata": {},
   "outputs": [],
   "source": [
    "def debug_neighboor_matrix(location, size=3):\n",
    "    x, y = NavigationManager().convert_for_minimap(location)\n",
    "    print(x-size,x+size,y-size,y+size)\n",
    "    print(NavigationManager().map_matrix[y-size:y+size,x-size:x+size])"
   ]
  },
  {
   "cell_type": "code",
   "execution_count": 26,
   "metadata": {},
   "outputs": [
    {
     "name": "stdout",
     "output_type": "stream",
     "text": [
      "327 333 147 153\n",
      "[[3 3 3 0 0 0]\n",
      " [3 3 3 3 3 0]\n",
      " [3 3 3 3 3 3]\n",
      " [3 3 3 3 3 3]\n",
      " [3 3 1 3 3 3]\n",
      " [3 1 1 1 3 3]]\n"
     ]
    }
   ],
   "source": [
    "sleep(3)\n",
    "location = (1320, 600)\n",
    "b.go_to_destination(location)\n",
    "debug_neighboor_matrix(location, 3)"
   ]
  },
  {
   "cell_type": "code",
   "execution_count": 23,
   "metadata": {
    "jupyter": {
     "source_hidden": true
    }
   },
   "outputs": [
    {
     "name": "stdout",
     "output_type": "stream",
     "text": [
      "Didn't find me ! 🙈\n"
     ]
    }
   ],
   "source": [
    "accept_power_task = b.game_map.task_manager.tasks[12]\n",
    "accept_power_security_location = (550, 460)\n",
    "\n",
    "shield_location_apeupres = b.game_map.task_manager.tasks[28].location\n",
    "\n",
    "##### Demo #####\n",
    "b.go_to_destination(accept_power_security_location)\n",
    "# la ligne suivante c'est au cas où\n",
    "b.go_to_destination(accept_power_security_location)\n",
    "\n",
    "b.perform_task(accept_power_task)\n",
    "\n",
    "b.go_to_destination(shield_location_apeupres)\n",
    "# la ligne suivante c'est au cas où\n",
    "b.go_to_destination(shield_location_apeupres)"
   ]
  },
  {
   "cell_type": "markdown",
   "metadata": {},
   "source": [
    "### Check for tasks not reachable"
   ]
  },
  {
   "cell_type": "code",
   "execution_count": 12,
   "metadata": {
    "collapsed": true,
    "jupyter": {
     "outputs_hidden": true
    }
   },
   "outputs": [
    {
     "name": "stdout",
     "output_type": "stream",
     "text": [
      "Didn't find a path between source and target ! 🐾\n",
      "Didn't find a path between source and target ! 🐾\n",
      "Didn't find a path between source and target ! 🐾\n",
      "Didn't find a path between source and target ! 🐾\n",
      "Didn't find a path between source and target ! 🐾\n",
      "Didn't find me ! 🙈\n",
      "Didn't find a path between source and target ! 🐾\n",
      "Didn't find a path between source and target ! 🐾\n",
      "Didn't find a path between source and target ! 🐾\n",
      "Didn't find a path between source and target ! 🐾\n",
      "Didn't find a path between source and target ! 🐾\n",
      "Didn't find a path between source and target ! 🐾\n",
      "Didn't find a path between source and target ! 🐾\n",
      "Didn't find a path between source and target ! 🐾\n",
      "Didn't find a path between source and target ! 🐾\n",
      "Didn't find a path between source and target ! 🐾\n",
      "Didn't find a path between source and target ! 🐾\n",
      "Didn't find a path between source and target ! 🐾\n",
      "Didn't find a path between source and target ! 🐾\n",
      "Didn't find a path between source and target ! 🐾\n",
      "Didn't find a path between source and target ! 🐾\n",
      "Didn't find a path between source and target ! 🐾\n",
      "0: Align Engine (Upper Engine)\n",
      "1: Align Engine (Lower Engine)\n",
      "2: Calibrate Distributor\n",
      "3: Chart Course\n",
      "5: Clear Asteroids\n",
      "6: Divert Power\n",
      "11: Accept Power (O2)\n",
      "12: Accept Power (Security)\n",
      "13: Accept Power (Shields)\n",
      "14: Accept Power (Weapons)\n",
      "15: Empty Garbage/Chute (Cafeteria)\n",
      "17: Empty Garbage/Chute (Storage)\n",
      "21: Fix Wires (Navigation)\n",
      "22: Fix Wires (Admin)\n",
      "27: Inspect Sample\n",
      "29: Stabilize Steering\n",
      "31: Submit Scan\n",
      "34: Download/Upload (Cafeteria)\n",
      "35: Download/Upload (Admin)\n",
      "36: Download/Upload (Communications)\n",
      "37: Download/Upload (Electrical)\n"
     ]
    }
   ],
   "source": [
    "len_paths = [len(b.get_moving_actions_to_destination(task.location)) for task in b.game_map.task_manager.tasks]\n",
    "for i in range(len(len_paths)):\n",
    "    if len_paths[i] == 0:\n",
    "        print(f\"- **{b.game_map.task_manager.tasks[i]}**\")\n",
    "    else:\n",
    "        print(f\"- OK : {b.game_map.task_manager.tasks[i]}\")"
   ]
  },
  {
   "cell_type": "markdown",
   "metadata": {},
   "source": [
    "Not found tasks :\n",
    "- 0: Align Engine (Upper Engine)\n",
    "- 1: Align Engine (Lower Engine)\n",
    "- 2: Calibrate Distributor\n",
    "- 3: Chart Course\n",
    "- 5: Clear Asteroids\n",
    "- 6: Divert Power\n",
    "- 11: Accept Power (O2)\n",
    "- 12: Accept Power (Security)\n",
    "- 13: Accept Power (Shields)\n",
    "- 14: Accept Power (Weapons)\n",
    "- 15: Empty Garbage/Chute (Cafeteria)\n",
    "- 17: Empty Garbage/Chute (Storage)\n",
    "- 21: Fix Wires (Navigation)\n",
    "- 22: Fix Wires (Admin)\n",
    "- 27: Inspect Sample\n",
    "- 29: Stabilize Steering\n",
    "- 31: Submit Scan\n",
    "- 34: Download/Upload (Cafeteria)\n",
    "- 35: Download/Upload (Admin)\n",
    "- 36: Download/Upload (Communications)\n",
    "- 37: Download/Upload (Electrical)"
   ]
  },
  {
   "cell_type": "markdown",
   "metadata": {},
   "source": [
    "### NAVIGAAAAAATE 🐾🐾🐾"
   ]
  },
  {
   "cell_type": "code",
   "execution_count": 4,
   "metadata": {},
   "outputs": [
    {
     "data": {
      "text/plain": [
       "(346, 869)"
      ]
     },
     "execution_count": 4,
     "metadata": {},
     "output_type": "execute_result"
    }
   ],
   "source": [
    "b.position.find_me()\n",
    "b.position.get_tuple_coordinates()"
   ]
  },
  {
   "cell_type": "markdown",
   "metadata": {},
   "source": [
    "### Navigate and do these tasks"
   ]
  },
  {
   "cell_type": "code",
   "execution_count": null,
   "metadata": {
    "collapsed": true,
    "jupyter": {
     "outputs_hidden": true,
     "source_hidden": true
    }
   },
   "outputs": [
    {
     "name": "stdout",
     "output_type": "stream",
     "text": [
      "Go to Clean O2 Filter\n",
      "Perform Clean O2 Filter\n",
      "Go to Accept Power (Communications)\n",
      "Didn't find me ! 🙈\n",
      "Didn't find me ! 🙈\n",
      "Perform Accept Power (Communications)\n",
      "Go to Accept Power (Lower Engine)\n",
      "Didn't find me ! 🙈\n",
      "Perform Accept Power (Lower Engine)\n",
      "Go to Accept Power (Upper Engine)\n",
      "Didn't find me ! 🙈\n",
      "Perform Accept Power (Upper Engine)\n",
      "Go to Accept Power (Navigation)\n",
      "Didn't find me ! 🙈\n",
      "Perform Accept Power (Navigation)\n",
      "Go to Empty Garbage/Chute (O2)\n",
      "Didn't find me ! 🙈\n",
      "Perform Empty Garbage/Chute (O2)\n",
      "Go to Fix Wires (Electrical)\n",
      "Perform Fix Wires (Electrical)\n",
      "Go to Fix Wires (Storage)\n",
      "Didn't find me ! 🙈\n",
      "Perform Fix Wires (Storage)\n",
      "Go to Fix Wires (Security)\n",
      "Didn't find me ! 🙈\n",
      "Didn't find a path between source and target ! 🐾\n",
      "Perform Fix Wires (Security)\n",
      "Go to Fix Wires (Cafeteria)\n",
      "Didn't find me ! 🙈\n",
      "Didn't find a path between source and target ! 🐾\n",
      "Perform Fix Wires (Cafeteria)\n",
      "Go to Fuel Engine (Storage)\n",
      "Perform Fuel Engine (Storage)\n",
      "Go to Fuel Engine (Lower Engine)\n",
      "Perform Fuel Engine (Lower Engine)\n",
      "Go to Fuel Engine (Upper Engine)\n",
      "Perform Fuel Engine (Upper Engine)\n",
      "Go to Prime Shields\n",
      "Perform Prime Shields\n",
      "Go to Start Reactor\n",
      "Perform Start Reactor\n"
     ]
    }
   ],
   "source": [
    "tasks_indexes = [4, 7, 8, 9, 10, 16, 18, 19, 20, 23, 24, 25, 26, 28, 30, 32, 33, 38, 39]\n",
    "tasks = [b.game_map.task_manager.tasks[i] for i in tasks_indexes]\n",
    "for task in tasks:\n",
    "    print(f\"Go to {task.name}\")\n",
    "    b.go_to_destination(task.location)\n",
    "    print(f\"Perform {task.name}\")\n",
    "    b.perform_task(task)"
   ]
  },
  {
   "cell_type": "code",
   "execution_count": 5,
   "metadata": {},
   "outputs": [],
   "source": [
    "# result_file_path=\"src/img/result_path.txt\"\n",
    "# grid_str = navManager.path_to_grid(path, must_print=False, result_file_path=None)"
   ]
  },
  {
   "cell_type": "markdown",
   "metadata": {},
   "source": [
    "## Talk during walking (experiments)"
   ]
  },
  {
   "cell_type": "markdown",
   "metadata": {},
   "source": [
    "## Solve a task"
   ]
  },
  {
   "cell_type": "code",
   "execution_count": 27,
   "metadata": {},
   "outputs": [
    {
     "name": "stdout",
     "output_type": "stream",
     "text": [
      "What task would you like to perform?:\n",
      "0: Troubleshoot\n",
      "1: Swipe_Card\n",
      "2: Download_Upload\n",
      "3: Fuel_Engines\n",
      "4: Divert_Power\n",
      "5: Empty_Chute\n",
      "6: Accept_Power\n",
      "7: Fix_Wires\n",
      "8: Prime_Shields\n",
      "9: Inspect_Sample\n",
      "10: Stabilize_Steering\n",
      "11: Submit_Scan\n",
      "12: Align_Engine_Output\n",
      "13: Clear_Asteroids\n",
      "14: Clean_O2_Filter\n",
      "15: Calibrate_Distributor\n",
      "16: Start_Reactor\n",
      "17: Chart_Course\n",
      "18: Unlock_Manifold\n"
     ]
    },
    {
     "name": "stdin",
     "output_type": "stream",
     "text": [
      "options: 13\n"
     ]
    }
   ],
   "source": [
    "b.game_map.task_manager.prompt_task()"
   ]
  },
  {
   "cell_type": "markdown",
   "metadata": {},
   "source": [
    "## Complete menu"
   ]
  },
  {
   "cell_type": "code",
   "execution_count": 5,
   "metadata": {},
   "outputs": [],
   "source": [
    "b.menu()"
   ]
  },
  {
   "cell_type": "markdown",
   "metadata": {},
   "source": [
    "## Troubleshoot"
   ]
  },
  {
   "cell_type": "code",
   "execution_count": 4,
   "metadata": {},
   "outputs": [
    {
     "name": "stdout",
     "output_type": "stream",
     "text": [
      "Point(x=303, y=608)\n",
      "Point(x=1654, y=858)\n",
      "Point(x=1481, y=741)\n",
      "Point(x=1308, y=508)\n",
      "Point(x=1754, y=944)\n",
      "Point(x=1232, y=733)\n",
      "Point(x=1123, y=695)\n",
      "Point(x=1123, y=695)\n",
      "Point(x=1123, y=695)\n",
      "Point(x=1123, y=695)\n",
      "Point(x=1123, y=696)\n",
      "Point(x=1119, y=867)\n",
      "Point(x=1119, y=866)\n",
      "Point(x=1119, y=866)\n",
      "Point(x=1119, y=866)\n",
      "Point(x=1119, y=866)\n",
      "Point(x=1119, y=866)\n",
      "Point(x=1118, y=863)\n",
      "Point(x=972, y=705)\n",
      "Point(x=965, y=702)\n",
      "Point(x=965, y=702)\n",
      "Point(x=965, y=702)\n",
      "Point(x=965, y=702)\n",
      "Point(x=793, y=539)\n",
      "Point(x=793, y=539)\n",
      "Point(x=793, y=539)\n",
      "Point(x=888, y=451)\n",
      "Point(x=950, y=370)\n",
      "Point(x=950, y=370)\n",
      "Point(x=950, y=370)\n",
      "Point(x=950, y=370)\n",
      "Point(x=950, y=370)\n",
      "Point(x=950, y=370)\n",
      "Point(x=710, y=363)\n",
      "Point(x=365, y=295)\n"
     ]
    },
    {
     "ename": "KeyboardInterrupt",
     "evalue": "",
     "output_type": "error",
     "traceback": [
      "\u001b[1;31m---------------------------------------------------------------------------\u001b[0m",
      "\u001b[1;31mKeyboardInterrupt\u001b[0m                         Traceback (most recent call last)",
      "\u001b[1;32m<ipython-input-4-900137934aaa>\u001b[0m in \u001b[0;36m<module>\u001b[1;34m\u001b[0m\n\u001b[1;32m----> 1\u001b[1;33m \u001b[0mTaskManager\u001b[0m\u001b[1;33m(\u001b[0m\u001b[1;33m)\u001b[0m\u001b[1;33m.\u001b[0m\u001b[0msolve_task\u001b[0m\u001b[1;33m(\u001b[0m\u001b[0mTaskType\u001b[0m\u001b[1;33m.\u001b[0m\u001b[0mTroubleshoot\u001b[0m\u001b[1;33m)\u001b[0m\u001b[1;33m\u001b[0m\u001b[1;33m\u001b[0m\u001b[0m\n\u001b[0m\u001b[0;32m      2\u001b[0m \u001b[1;31m# red 377,150\u001b[0m\u001b[1;33m\u001b[0m\u001b[1;33m\u001b[0m\u001b[1;33m\u001b[0m\u001b[0m\n\u001b[0;32m      3\u001b[0m \u001b[1;31m# white 354,225\u001b[0m\u001b[1;33m\u001b[0m\u001b[1;33m\u001b[0m\u001b[1;33m\u001b[0m\u001b[0m\n\u001b[0;32m      4\u001b[0m \u001b[1;31m# red/yellow 325,386\u001b[0m\u001b[1;33m\u001b[0m\u001b[1;33m\u001b[0m\u001b[1;33m\u001b[0m\u001b[0m\n\u001b[0;32m      5\u001b[0m \u001b[1;31m# black 326,347\u001b[0m\u001b[1;33m\u001b[0m\u001b[1;33m\u001b[0m\u001b[1;33m\u001b[0m\u001b[0m\n",
      "\u001b[1;32m~\\EISTI\\PFE\\among-us-bot\\src\\tasks.py\u001b[0m in \u001b[0;36msolve_task\u001b[1;34m(self, option)\u001b[0m\n\u001b[0;32m    489\u001b[0m     \u001b[1;32mdef\u001b[0m \u001b[0msolve_task\u001b[0m\u001b[1;33m(\u001b[0m\u001b[0mself\u001b[0m\u001b[1;33m,\u001b[0m \u001b[0moption\u001b[0m\u001b[1;33m)\u001b[0m\u001b[1;33m:\u001b[0m\u001b[1;33m\u001b[0m\u001b[1;33m\u001b[0m\u001b[0m\n\u001b[0;32m    490\u001b[0m         \u001b[1;32mif\u001b[0m\u001b[1;33m(\u001b[0m\u001b[0moption\u001b[0m \u001b[1;33m==\u001b[0m \u001b[0mTaskType\u001b[0m\u001b[1;33m.\u001b[0m\u001b[0mTroubleshoot\u001b[0m\u001b[1;33m)\u001b[0m\u001b[1;33m:\u001b[0m\u001b[1;33m\u001b[0m\u001b[1;33m\u001b[0m\u001b[0m\n\u001b[1;32m--> 491\u001b[1;33m             \u001b[0mself\u001b[0m\u001b[1;33m.\u001b[0m\u001b[0mtroubleshoot\u001b[0m\u001b[1;33m(\u001b[0m\u001b[1;33m)\u001b[0m\u001b[1;33m\u001b[0m\u001b[1;33m\u001b[0m\u001b[0m\n\u001b[0m\u001b[0;32m    492\u001b[0m         \u001b[1;32melif\u001b[0m\u001b[1;33m(\u001b[0m\u001b[0moption\u001b[0m \u001b[1;33m==\u001b[0m \u001b[0mTaskType\u001b[0m\u001b[1;33m.\u001b[0m\u001b[0mSwipe_Card\u001b[0m\u001b[1;33m)\u001b[0m\u001b[1;33m:\u001b[0m\u001b[1;33m\u001b[0m\u001b[1;33m\u001b[0m\u001b[0m\n\u001b[0;32m    493\u001b[0m             \u001b[0mself\u001b[0m\u001b[1;33m.\u001b[0m\u001b[0mstart_task\u001b[0m\u001b[1;33m(\u001b[0m\u001b[1;33m)\u001b[0m\u001b[1;33m\u001b[0m\u001b[1;33m\u001b[0m\u001b[0m\n",
      "\u001b[1;32m~\\EISTI\\PFE\\among-us-bot\\src\\tasks.py\u001b[0m in \u001b[0;36mtroubleshoot\u001b[1;34m(self)\u001b[0m\n\u001b[0;32m    484\u001b[0m     \u001b[1;32mdef\u001b[0m \u001b[0mtroubleshoot\u001b[0m\u001b[1;33m(\u001b[0m\u001b[0mself\u001b[0m\u001b[1;33m)\u001b[0m\u001b[1;33m:\u001b[0m\u001b[1;33m\u001b[0m\u001b[1;33m\u001b[0m\u001b[0m\n\u001b[0;32m    485\u001b[0m         \u001b[1;32mwhile\u001b[0m \u001b[1;32mTrue\u001b[0m\u001b[1;33m:\u001b[0m\u001b[1;33m\u001b[0m\u001b[1;33m\u001b[0m\u001b[0m\n\u001b[1;32m--> 486\u001b[1;33m             \u001b[0mtime\u001b[0m\u001b[1;33m.\u001b[0m\u001b[0msleep\u001b[0m\u001b[1;33m(\u001b[0m\u001b[1;36m1\u001b[0m\u001b[1;33m)\u001b[0m\u001b[1;33m\u001b[0m\u001b[1;33m\u001b[0m\u001b[0m\n\u001b[0m\u001b[0;32m    487\u001b[0m             \u001b[0mprint\u001b[0m\u001b[1;33m(\u001b[0m\u001b[0mpyautogui\u001b[0m\u001b[1;33m.\u001b[0m\u001b[0mposition\u001b[0m\u001b[1;33m(\u001b[0m\u001b[1;33m)\u001b[0m\u001b[1;33m)\u001b[0m\u001b[1;33m\u001b[0m\u001b[1;33m\u001b[0m\u001b[0m\n\u001b[0;32m    488\u001b[0m \u001b[1;33m\u001b[0m\u001b[0m\n",
      "\u001b[1;31mKeyboardInterrupt\u001b[0m: "
     ]
    }
   ],
   "source": [
    "TaskManager().solve_task(TaskType.Troubleshoot)\n",
    "# red 377,150\n",
    "# white 354,225\n",
    "# red/yellow 325,386\n",
    "# black 326,347"
   ]
  },
  {
   "cell_type": "code",
   "execution_count": 15,
   "metadata": {},
   "outputs": [
    {
     "data": {
      "text/plain": [
       "(222, 33, 0)"
      ]
     },
     "execution_count": 15,
     "metadata": {},
     "output_type": "execute_result"
    }
   ],
   "source": [
    "sleep(2)\n",
    "im = pyautogui.screenshot()\n",
    "pixel = (1497,991)\n",
    "im.getpixel(pixel)"
   ]
  },
  {
   "cell_type": "code",
   "execution_count": 12,
   "metadata": {},
   "outputs": [
    {
     "data": {
      "text/plain": [
       "(202, 117, 117)"
      ]
     },
     "execution_count": 12,
     "metadata": {},
     "output_type": "execute_result"
    }
   ],
   "source": [
    "sleep(2)\n",
    "im = pyautogui.screenshot()\n",
    "pixel = (PixelPositions.MAIN_BTN.value)\n",
    "im.getpixel(pixel)"
   ]
  },
  {
   "cell_type": "markdown",
   "metadata": {},
   "source": [
    "## Notes"
   ]
  },
  {
   "cell_type": "markdown",
   "metadata": {
    "jupyter": {
     "source_hidden": true
    }
   },
   "source": [
    "- **0: Align Engine (Upper Engine)**\n",
    "- **1: Align Engine (Lower Engine)**\n",
    "- **2: Calibrate Distributor**\n",
    "- **3: Chart Course**\n",
    "- **4: Clean O2 Filter**\n",
    "- **5: Clear Asteroids**\n",
    "- **6: Divert Power**\n",
    "- **7: Accept Power (Communications)**\n",
    "- **8: Accept Power (Lower Engine)**\n",
    "- **9: Accept Power (Upper Engine)**\n",
    "- **10: Accept Power (Navigation)**\n",
    "- **11: Accept Power (O2)**\n",
    "- **12: Accept Power (Security)**\n",
    "- **13: Accept Power (Shields)**\n",
    "- **14: Accept Power (Weapons)**\n",
    "- **15: Empty Garbage/Chute (Cafeteria)**\n",
    "- **16: Empty Garbage/Chute (O2)**\n",
    "- **17: Empty Garbage/Chute (Storage)**\n",
    "- **18: Fix Wires (Electrical)**\n",
    "- **19: Fix Wires (Storage)**\n",
    "- **20: Fix Wires (Security)**\n",
    "- **21: Fix Wires (Navigation)**\n",
    "- **22: Fix Wires (Admin)**\n",
    "- **23: Fix Wires (Cafeteria)**\n",
    "- **24: Fuel Engine (Storage)**\n",
    "- **25: Fuel Engine (Lower Engine)**\n",
    "- **26: Fuel Engine (Upper Engine)**\n",
    "- **27: Inspect Sample**\n",
    "- 28: Prime Shields\n",
    "- **29: Stabilize Steering**\n",
    "- **30: Start Reactor**\n",
    "- **31: Submit Scan**\n",
    "- **32: Swipe Card**\n",
    "- **33: Unlock Manifolds**\n",
    "- **34: Download/Upload (Cafeteria)**\n",
    "- **35: Download/Upload (Admin)**\n",
    "- **36: Download/Upload (Communications)**\n",
    "- **37: Download/Upload (Electrical)**\n",
    "- **38: Download/Upload (Navigation)**\n",
    "- **39: Download/Upload (Weapons)**"
   ]
  }
 ],
 "metadata": {
  "kernelspec": {
   "display_name": "Python 3",
   "language": "python",
   "name": "python3"
  },
  "language_info": {
   "codemirror_mode": {
    "name": "ipython",
    "version": 3
   },
   "file_extension": ".py",
   "mimetype": "text/x-python",
   "name": "python",
   "nbconvert_exporter": "python",
   "pygments_lexer": "ipython3",
   "version": "3.8.3"
  }
 },
 "nbformat": 4,
 "nbformat_minor": 4
}
