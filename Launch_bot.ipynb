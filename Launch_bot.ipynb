{
 "cells": [
  {
   "cell_type": "code",
   "execution_count": 1,
   "metadata": {},
   "outputs": [
    {
     "name": "stdout",
     "output_type": "stream",
     "text": [
      "False\n",
      "True\n",
      "False\n"
     ]
    }
   ],
   "source": [
    "from src.bot import *\n",
    "from time import sleep\n",
    "\n",
    "# !pip install -r requirements.txt\n",
    "sleep(3)\n",
    "b = Bot('src/img/Walkable_fit_safe_small.png')\n",
    "print(b.isImposteur)\n",
    "print(b.checkReport())\n",
    "print(b.checkKill())\n",
    "# b.kill()\n",
    "b.reportKill()"
   ]
  },
  {
   "cell_type": "markdown",
   "metadata": {},
   "source": [
    "## Navigate to coordinates"
   ]
  },
  {
   "cell_type": "code",
   "execution_count": 20,
   "metadata": {},
   "outputs": [],
   "source": [
    "source_coordinates = (323, 177)\n",
    "destination = (1120,240)"
   ]
  },
  {
   "cell_type": "code",
   "execution_count": 4,
   "metadata": {},
   "outputs": [
    {
     "data": {
      "text/plain": [
       "[4.00 x down,\n",
       " 4.00 x right,\n",
       " 8.00 x right-down,\n",
       " 4.00 x right,\n",
       " 4.00 x right-down,\n",
       " 12.00 x right,\n",
       " 12.00 x right-down,\n",
       " 12.00 x right,\n",
       " 8.00 x right-down,\n",
       " 16.00 x right,\n",
       " 20.00 x right-down,\n",
       " 8.00 x right,\n",
       " 4.00 x right-down,\n",
       " 516.00 x right,\n",
       " 8.00 x right-up,\n",
       " 4.00 x right,\n",
       " 8.00 x right-up,\n",
       " 4.00 x right,\n",
       " 8.00 x right-up,\n",
       " 16.00 x right,\n",
       " 4.00 x right-up,\n",
       " 80.00 x right,\n",
       " 12.00 x right-down,\n",
       " 8.00 x right,\n",
       " 20.00 x right-down]"
      ]
     },
     "execution_count": 4,
     "metadata": {},
     "output_type": "execute_result"
    }
   ],
   "source": [
    "b.get_moving_actions_to_destination(destination, source_coordinates=source_coordinates)"
   ]
  },
  {
   "cell_type": "code",
   "execution_count": 10,
   "metadata": {},
   "outputs": [],
   "source": [
    "sleep(3)\n",
    "b.go_to_destination(destination)\n",
    "b.go_to_destination(destination)\n",
    "b.go_to_destination(destination)"
   ]
  },
  {
   "cell_type": "markdown",
   "metadata": {},
   "source": [
    "## Navigate to a task"
   ]
  },
  {
   "cell_type": "code",
   "execution_count": 17,
   "metadata": {},
   "outputs": [
    {
     "data": {
      "text/plain": [
       "(1230, 172)"
      ]
     },
     "execution_count": 17,
     "metadata": {},
     "output_type": "execute_result"
    }
   ],
   "source": [
    "trash_task = b.game_map.taskManager.tasks[15]\n",
    "trash_task.location"
   ]
  },
  {
   "cell_type": "code",
   "execution_count": 18,
   "metadata": {},
   "outputs": [
    {
     "name": "stdout",
     "output_type": "stream",
     "text": [
      "Didn't find me ! 🙈\n"
     ]
    },
    {
     "data": {
      "text/plain": [
       "(1230, 175)"
      ]
     },
     "execution_count": 18,
     "metadata": {},
     "output_type": "execute_result"
    }
   ],
   "source": [
    "b.position.find_me()"
   ]
  },
  {
   "cell_type": "code",
   "execution_count": 16,
   "metadata": {},
   "outputs": [
    {
     "name": "stdout",
     "output_type": "stream",
     "text": [
      "Didn't find me ! 🙈\n"
     ]
    }
   ],
   "source": [
    "b.go_to_destination(trash_task.location)\n",
    "b.go_to_destination(trash_task.location)\n",
    "# b.perform_task(trash_task)"
   ]
  },
  {
   "cell_type": "code",
   "execution_count": 14,
   "metadata": {},
   "outputs": [],
   "source": [
    "# b.perform_task(trash_task)\n",
    "from src.utils import FOCUS_AMONG_SCREEN\n",
    "FOCUS_AMONG_SCREEN()\n",
    "sleep(1)\n",
    "pyautogui.moveTo(1270,420)\n",
    "pyautogui.mouseDown()\n",
    "pyautogui.moveTo(1270,720)\n",
    "time.sleep(3)\n",
    "pyautogui.mouseUp()"
   ]
  },
  {
   "cell_type": "code",
   "execution_count": 5,
   "metadata": {},
   "outputs": [],
   "source": [
    "result_file_path=\"src/img/result_path.txt\"\n",
    "grid_str = navManager.path_to_grid(path, must_print=False, result_file_path=None)"
   ]
  },
  {
   "cell_type": "code",
   "execution_count": 1,
   "metadata": {},
   "outputs": [
    {
     "name": "stdout",
     "output_type": "stream",
     "text": [
      "449\n",
      "1027\n",
      "549\n",
      "1027\n",
      "548\n",
      "1028\n"
     ]
    }
   ],
   "source": [
    "from src.position import *\n",
    "import time\n",
    "\n",
    "pos = Position()\n",
    "direction = Directions()\n",
    "time.sleep(3)\n",
    "pos.find_me()\n",
    "print(pos.vertical_position)\n",
    "print(pos.horizontal_position)\n",
    "pos.move(100,direction.DOWN)\n",
    "print(pos.vertical_position)\n",
    "print(pos.horizontal_position)\n",
    "pos.find_me()\n",
    "print(pos.vertical_position)\n",
    "print(pos.horizontal_position)"
   ]
  },
  {
   "cell_type": "markdown",
   "metadata": {},
   "source": [
    "## Solve a task"
   ]
  },
  {
   "cell_type": "code",
   "execution_count": 3,
   "metadata": {},
   "outputs": [
    {
     "name": "stdout",
     "output_type": "stream",
     "text": [
      "What task would you like to perform?:\n",
      "0: Troubleshoot\n",
      "1: Swipe_Card\n",
      "2: Download_Upload\n",
      "3: Fuel_Engines\n",
      "4: Divert_Power\n",
      "5: Empty_Chute\n",
      "6: Accept_Power\n",
      "7: Fix_Wires\n",
      "8: Prime_Shields\n",
      "9: Inspect_Sample\n",
      "10: Stabilize_Steering\n",
      "11: Submit_Scan\n",
      "12: Align_Engine_Output\n",
      "13: Clear_Asteroids\n",
      "14: Clean_O2_Filter\n",
      "15: Calibrate_Distributor\n",
      "16: Start_Reactor\n",
      "17: Chart_Course\n",
      "18: Unlock_Manifold\n"
     ]
    },
    {
     "name": "stdin",
     "output_type": "stream",
     "text": [
      "options: 1\n"
     ]
    }
   ],
   "source": [
    "gm.prompt_task()"
   ]
  },
  {
   "cell_type": "code",
   "execution_count": 2,
   "metadata": {},
   "outputs": [
    {
     "name": "stdout",
     "output_type": "stream",
     "text": [
      "What task would you like to perform?:\n",
      "0: Troubleshoot\n",
      "1: Swipe_Card\n",
      "2: Download_Upload\n",
      "3: Fuel_Engines\n",
      "4: Divert_Power\n",
      "5: Empty_Chute\n",
      "6: Accept_Power\n",
      "7: Fix_Wires\n",
      "8: Prime_Shields\n",
      "9: Inspect_Sample\n",
      "10: Stabilize_Steering\n",
      "11: Submit_Scan\n",
      "12: Align_Engine_Output\n",
      "13: Clear_Asteroids\n",
      "14: Clean_O2_Filter\n",
      "15: Calibrate_Distributor\n",
      "16: Start_Reactor\n",
      "17: Chart_Course\n",
      "18: Unlock_Manifold\n"
     ]
    },
    {
     "name": "stdin",
     "output_type": "stream",
     "text": [
      "options: 13\n"
     ]
    }
   ],
   "source": [
    "from src.bot import *\n",
    "from time import sleep\n",
    "\n",
    "# !pip install -r requirements.txt\n",
    "b = Bot('src/img/Walkable_fit_safe_small.png')\n",
    "b.game_map.taskManager.prompt_task()"
   ]
  },
  {
   "cell_type": "markdown",
   "metadata": {},
   "source": [
    "## Complete menu"
   ]
  },
  {
   "cell_type": "code",
   "execution_count": 5,
   "metadata": {},
   "outputs": [],
   "source": [
    "b.menu()"
   ]
  },
  {
   "cell_type": "markdown",
   "metadata": {},
   "source": [
    "## Notes"
   ]
  },
  {
   "cell_type": "markdown",
   "metadata": {},
   "source": [
    "- 0: Align Engine (Upper Engine)\n",
    "- 1: Align Engine (Lower Engine)\n",
    "- 2: Calibrate Distributor\n",
    "- 3: Chart Course\n",
    "- 4: Clean O2 Filter\n",
    "- 5: Clear Asteroids\n",
    "- 6: Divert Power\n",
    "- 7: Accept Power (Communications)\n",
    "- 8: Accept Power (Lower Engine)\n",
    "- 9: Accept Power (Upper Engine)\n",
    "- 10: Accept Power (Navigation)\n",
    "- 11: Accept Power (O2)\n",
    "- 12: Accept Power (Security)\n",
    "- 13: Accept Power (Shields)\n",
    "- 14: Accept Power (Weapons)\n",
    "- 15: Empty Garbage/Chute (Cafeteria)\n",
    "- 16: Empty Garbage/Chute (O2)\n",
    "- 17: Empty Garbage/Chute (Storage)\n",
    "- 18: Fix Wires (Electrical)\n",
    "- 19: Fix Wires (Storage)\n",
    "- 20: Fix Wires (Security)\n",
    "- 21: Fix Wires (Navigation)\n",
    "- 22: Fix Wires (Admin)\n",
    "- 23: Fix Wires (Cafeteria)\n",
    "- 24: Fuel Engine (Storage)\n",
    "- 25: Fuel Engine (Lower Engine)\n",
    "- 26: Fuel Engine (Upper Engine)\n",
    "- 27: Inspect Sample\n",
    "- 28: Prime Shields\n",
    "- 29: Stabilize Steering\n",
    "- 30: Start Reactor\n",
    "- 31: Submit Scan\n",
    "- 32: Swipe Card\n",
    "- 33: Unlock Manifolds\n",
    "- 34: Download/Upload (Cafeteria)\n",
    "- 35: Download/Upload (Admin)\n",
    "- 36: Download/Upload (Communications)\n",
    "- 37: Download/Upload (Electrical)\n",
    "- 38: Download/Upload (Navigation)\n",
    "- 39: Download/Upload (Weapons)"
   ]
  }
 ],
 "metadata": {
  "kernelspec": {
   "display_name": "Python 3",
   "language": "python",
   "name": "python3"
  },
  "language_info": {
   "codemirror_mode": {
    "name": "ipython",
    "version": 3
   },
   "file_extension": ".py",
   "mimetype": "text/x-python",
   "name": "python",
   "nbconvert_exporter": "python",
   "pygments_lexer": "ipython3",
   "version": "3.8.5"
  }
 },
 "nbformat": 4,
 "nbformat_minor": 4
}
