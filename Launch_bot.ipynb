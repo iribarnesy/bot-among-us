{
 "cells": [
  {
   "cell_type": "code",
   "execution_count": 1,
   "metadata": {},
   "outputs": [],
   "source": [
    "from bot import *"
   ]
  },
  {
   "cell_type": "code",
   "execution_count": 2,
   "metadata": {},
   "outputs": [],
   "source": [
    "# !pip install -r requirements.txt"
   ]
  },
  {
   "cell_type": "code",
   "execution_count": 3,
   "metadata": {},
   "outputs": [],
   "source": [
    "b = Bot()"
   ]
  },
  {
   "cell_type": "code",
   "execution_count": 4,
   "metadata": {},
   "outputs": [
    {
     "data": {
      "text/plain": [
       "[0: Align Engine (Upper Engine),\n",
       " 1: Align Engine (Lower Engine),\n",
       " 2: Calibrate Distributor,\n",
       " 3: Chart Course,\n",
       " 4: Clean O2 Filter,\n",
       " 5: Clear Asteroids,\n",
       " 6: Divert Power,\n",
       " 7: Accept Power (Communications),\n",
       " 8: Accept Power (Lower Engine),\n",
       " 9: Accept Power (Upper Engine),\n",
       " 10: Accept Power (Navigation),\n",
       " 11: Accept Power (O2),\n",
       " 12: Accept Power (Security),\n",
       " 13: Accept Power (Shields),\n",
       " 14: Accept Power (Weapons),\n",
       " 15: Empty Garbage/Chute (Cafeteria),\n",
       " 16: Empty Garbage/Chute (O2),\n",
       " 17: Empty Garbage/Chute (Storage),\n",
       " 18: Fix Wires (Electrical),\n",
       " 19: Fix Wires (Storage),\n",
       " 20: Fix Wires (Security),\n",
       " 21: Fix Wires (Navigation),\n",
       " 22: Fix Wires (Admin),\n",
       " 23: Fix Wires (Cafeteria),\n",
       " 24: Fuel Engine (Storage),\n",
       " 25: Fuel Engine (Lower Engine),\n",
       " 26: Fuel Engine (Upper Engine),\n",
       " 27: Inspect Sample,\n",
       " 28: Prime Shields,\n",
       " 29: Stabilize Steering,\n",
       " 30: Start Reactor,\n",
       " 31: Submit Scan,\n",
       " 32: Swipe Card,\n",
       " 33: Unlock Manifolds,\n",
       " 34: Download/Upload (Cafeteria),\n",
       " 35: Download/Upload (Admin),\n",
       " 36: Download/Upload (Communications),\n",
       " 37: Download/Upload (Electrical),\n",
       " 38: Download/Upload (Navigation),\n",
       " 39: Download/Upload (Weapons)]"
      ]
     },
     "execution_count": 4,
     "metadata": {},
     "output_type": "execute_result"
    }
   ],
   "source": [
    "navigate.TASKS"
   ]
  },
  {
   "cell_type": "code",
   "execution_count": 5,
   "metadata": {},
   "outputs": [
    {
     "name": "stdout",
     "output_type": "stream",
     "text": [
      "Download/Upload (Admin)\n",
      "575, 128\n",
      "576, 128\n",
      "574, 129\n",
      "574, 129\n",
      "575, 129\n",
      "575, 129\n",
      "576, 129\n",
      "574, 129\n",
      "574, 129\n",
      "575, 129\n",
      "575, 129\n",
      "Can't find\n"
     ]
    },
    {
     "data": {
      "text/plain": [
       "0"
      ]
     },
     "execution_count": 5,
     "metadata": {},
     "output_type": "execute_result"
    }
   ],
   "source": [
    "navigate.pathfinding(35)"
   ]
  },
  {
   "cell_type": "code",
   "execution_count": null,
   "metadata": {},
   "outputs": [],
   "source": []
  },
  {
   "cell_type": "code",
   "execution_count": null,
   "metadata": {},
   "outputs": [],
   "source": []
  },
  {
   "cell_type": "code",
   "execution_count": 7,
   "metadata": {},
   "outputs": [
    {
     "name": "stdout",
     "output_type": "stream",
     "text": [
      "What would you like to do?\n",
      "[1] Run Bot\n",
      "[2] Solve Tasks\n",
      "[3] Navigate to Tasks\n",
      "[4] Find me\n"
     ]
    },
    {
     "name": "stdin",
     "output_type": "stream",
     "text": [
      "options: 4\n"
     ]
    }
   ],
   "source": [
    "b.menu()"
   ]
  },
  {
   "cell_type": "code",
   "execution_count": null,
   "metadata": {},
   "outputs": [],
   "source": []
  }
 ],
 "metadata": {
  "kernelspec": {
   "display_name": "Python 3",
   "language": "python",
   "name": "python3"
  },
  "language_info": {
   "codemirror_mode": {
    "name": "ipython",
    "version": 3
   },
   "file_extension": ".py",
   "mimetype": "text/x-python",
   "name": "python",
   "nbconvert_exporter": "python",
   "pygments_lexer": "ipython3",
   "version": "3.8.3"
  }
 },
 "nbformat": 4,
 "nbformat_minor": 4
}
