{
 "cells": [
  {
   "cell_type": "code",
   "execution_count": 1,
   "metadata": {},
   "outputs": [],
   "source": [
    "from src.bot import *\n",
    "from time import sleep\n",
    "\n",
    "# !pip install -r requirements.txt\n",
    "b = Bot()\n",
    "gm = game_map.SkeldMap()"
   ]
  },
  {
   "cell_type": "markdown",
   "metadata": {},
   "source": [
    "## Navigate to coordinates"
   ]
  },
  {
   "cell_type": "code",
   "execution_count": 2,
   "metadata": {},
   "outputs": [],
   "source": [
    "b.find_me()"
   ]
  },
  {
   "cell_type": "markdown",
   "metadata": {},
   "source": [
    "## Navigate to a task"
   ]
  },
  {
   "cell_type": "code",
   "execution_count": 3,
   "metadata": {},
   "outputs": [
    {
     "name": "stdout",
     "output_type": "stream",
     "text": [
      "[(295, 549), (296, 550), (297, 551), (298, 551), (299, 551), (300, 551)]\n"
     ]
    }
   ],
   "source": [
    "from src.navigation import *\n",
    "\n",
    "map_matrix = [\n",
    "            [1, 1, 1, 1],\n",
    "            [0, 0 ,0 ,1],\n",
    "            [1, 1, 1, 1]\n",
    "            ]\n",
    "\n",
    "#x = NavigationManager(\"src/img/WalkableMesh_resize.png\")\n",
    "#x.map_matrix = map_matrix\n",
    "#x.init_matrix()\n",
    "#np.argmax(np.argmax(x.map_matrix,axis=1))\n",
    "paths, runs = x.calculate_path((295,549),(300,551))\n",
    "print(paths)\n",
    "#x.print_path(paths)"
   ]
  },
  {
   "cell_type": "markdown",
   "metadata": {},
   "source": [
    "## Solve a task"
   ]
  },
  {
   "cell_type": "code",
   "execution_count": 3,
   "metadata": {},
   "outputs": [
    {
     "name": "stdout",
     "output_type": "stream",
     "text": [
      "What task would you like to perform?:\n",
      "0: Troubleshoot\n",
      "1: Swipe_Card\n",
      "2: Download_Upload\n",
      "3: Fuel_Engines\n",
      "4: Divert_Power\n",
      "5: Empty_Chute\n",
      "6: Accept_Power\n",
      "7: Fix_Wires\n",
      "8: Prime_Shields\n",
      "9: Inspect_Sample\n",
      "10: Stabilize_Steering\n",
      "11: Submit_Scan\n",
      "12: Align_Engine_Output\n",
      "13: Clear_Asteroids\n",
      "14: Clean_O2_Filter\n",
      "15: Calibrate_Distributor\n",
      "16: Start_Reactor\n",
      "17: Chart_Course\n",
      "18: Unlock_Manifold\n"
     ]
    },
    {
     "name": "stdin",
     "output_type": "stream",
     "text": [
      "options: 1\n"
     ]
    }
   ],
   "source": [
    "gm.prompt_task()"
   ]
  },
  {
   "cell_type": "markdown",
   "metadata": {},
   "source": [
    "## Complete menu"
   ]
  },
  {
   "cell_type": "code",
   "execution_count": 5,
   "metadata": {},
   "outputs": [],
   "source": [
    "b.menu()"
   ]
  },
  {
   "cell_type": "markdown",
   "metadata": {},
   "source": [
    "## Notes"
   ]
  },
  {
   "cell_type": "markdown",
   "metadata": {},
   "source": [
    "- 0: Align Engine (Upper Engine)\n",
    "- 1: Align Engine (Lower Engine)\n",
    "- 2: Calibrate Distributor\n",
    "- 3: Chart Course\n",
    "- 4: Clean O2 Filter\n",
    "- 5: Clear Asteroids\n",
    "- 6: Divert Power\n",
    "- 7: Accept Power (Communications)\n",
    "- 8: Accept Power (Lower Engine)\n",
    "- 9: Accept Power (Upper Engine)\n",
    "- 10: Accept Power (Navigation)\n",
    "- 11: Accept Power (O2)\n",
    "- 12: Accept Power (Security)\n",
    "- 13: Accept Power (Shields)\n",
    "- 14: Accept Power (Weapons)\n",
    "- 15: Empty Garbage/Chute (Cafeteria)\n",
    "- 16: Empty Garbage/Chute (O2)\n",
    "- 17: Empty Garbage/Chute (Storage)\n",
    "- 18: Fix Wires (Electrical)\n",
    "- 19: Fix Wires (Storage)\n",
    "- 20: Fix Wires (Security)\n",
    "- 21: Fix Wires (Navigation)\n",
    "- 22: Fix Wires (Admin)\n",
    "- 23: Fix Wires (Cafeteria)\n",
    "- 24: Fuel Engine (Storage)\n",
    "- 25: Fuel Engine (Lower Engine)\n",
    "- 26: Fuel Engine (Upper Engine)\n",
    "- 27: Inspect Sample\n",
    "- 28: Prime Shields\n",
    "- 29: Stabilize Steering\n",
    "- 30: Start Reactor\n",
    "- 31: Submit Scan\n",
    "- 32: Swipe Card\n",
    "- 33: Unlock Manifolds\n",
    "- 34: Download/Upload (Cafeteria)\n",
    "- 35: Download/Upload (Admin)\n",
    "- 36: Download/Upload (Communications)\n",
    "- 37: Download/Upload (Electrical)\n",
    "- 38: Download/Upload (Navigation)\n",
    "- 39: Download/Upload (Weapons)"
   ]
  }
 ],
 "metadata": {
  "kernelspec": {
   "display_name": "Python 3",
   "language": "python",
   "name": "python3"
  },
  "language_info": {
   "codemirror_mode": {
    "name": "ipython",
    "version": 3
   },
   "file_extension": ".py",
   "mimetype": "text/x-python",
   "name": "python",
   "nbconvert_exporter": "python",
   "pygments_lexer": "ipython3",
   "version": "3.8.5"
  }
 },
 "nbformat": 4,
 "nbformat_minor": 4
}
